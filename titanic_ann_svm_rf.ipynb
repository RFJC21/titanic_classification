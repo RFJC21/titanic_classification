{
  "nbformat": 4,
  "nbformat_minor": 0,
  "metadata": {
    "colab": {
      "name": "titanic_ann_svm_rf.ipynb",
      "provenance": [],
      "collapsed_sections": [],
      "authorship_tag": "ABX9TyNURrNvGSmA1hbD2gZny2Vm",
      "include_colab_link": true
    },
    "kernelspec": {
      "name": "python3",
      "display_name": "Python 3"
    }
  },
  "cells": [
    {
      "cell_type": "markdown",
      "metadata": {
        "id": "view-in-github",
        "colab_type": "text"
      },
      "source": [
        "<a href=\"https://colab.research.google.com/github/RFJC21/titanic_classification/blob/master/titanic_ann_svm_rf.ipynb\" target=\"_parent\"><img src=\"https://colab.research.google.com/assets/colab-badge.svg\" alt=\"Open In Colab\"/></a>"
      ]
    },
    {
      "cell_type": "code",
      "metadata": {
        "id": "DnvWCYF3cUMc",
        "colab_type": "code",
        "outputId": "f16a70da-c9ca-42b6-f1fe-fe834bcc1558",
        "colab": {
          "base_uri": "https://localhost:8080/",
          "height": 54
        }
      },
      "source": [
        "import pandas as pd\n",
        "import seaborn as sns\n",
        "import numpy as np\n",
        "import keras\n",
        "import matplotlib.pyplot as plt\n",
        "from sklearn.model_selection import train_test_split\n",
        "from sklearn.preprocessing import MinMaxScaler\n",
        "import datetime, os\n",
        "import tensorflow as tf\n",
        "%load_ext tensorboard\n",
        "\n",
        "from tensorflow.keras.models import Sequential\n",
        "from tensorflow.keras.layers import Dense, Dropout\n",
        "from tensorflow.keras.callbacks import EarlyStopping\n",
        "\n",
        "from sklearn.metrics import classification_report,confusion_matrix\n",
        "from sklearn.metrics import mean_absolute_error,mean_squared_error, explained_variance_score"
      ],
      "execution_count": 0,
      "outputs": [
        {
          "output_type": "stream",
          "text": [
            "The tensorboard extension is already loaded. To reload it, use:\n",
            "  %reload_ext tensorboard\n"
          ],
          "name": "stdout"
        }
      ]
    },
    {
      "cell_type": "markdown",
      "metadata": {
        "id": "kosMIXgMdMhh",
        "colab_type": "text"
      },
      "source": [
        "# Get Data"
      ]
    },
    {
      "cell_type": "code",
      "metadata": {
        "id": "hwD7Ez7jdDH_",
        "colab_type": "code",
        "outputId": "17576e03-4a5f-4ee7-b0cc-ca53b6eae132",
        "colab": {
          "resources": {
            "http://localhost:8080/nbextensions/google.colab/files.js": {
              "data": "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",
              "ok": true,
              "headers": [
                [
                  "content-type",
                  "application/javascript"
                ]
              ],
              "status": 200,
              "status_text": ""
            }
          },
          "base_uri": "https://localhost:8080/",
          "height": 75
        }
      },
      "source": [
        "from google.colab import files\n",
        "uploaded = files.upload()"
      ],
      "execution_count": 0,
      "outputs": [
        {
          "output_type": "display_data",
          "data": {
            "text/html": [
              "\n",
              "     <input type=\"file\" id=\"files-8655c809-d9b7-4b1c-b5cb-06430a345824\" name=\"files[]\" multiple disabled />\n",
              "     <output id=\"result-8655c809-d9b7-4b1c-b5cb-06430a345824\">\n",
              "      Upload widget is only available when the cell has been executed in the\n",
              "      current browser session. Please rerun this cell to enable.\n",
              "      </output>\n",
              "      <script src=\"/nbextensions/google.colab/files.js\"></script> "
            ],
            "text/plain": [
              "<IPython.core.display.HTML object>"
            ]
          },
          "metadata": {
            "tags": []
          }
        },
        {
          "output_type": "stream",
          "text": [
            "Saving titanic_train.csv to titanic_train (2).csv\n"
          ],
          "name": "stdout"
        }
      ]
    },
    {
      "cell_type": "code",
      "metadata": {
        "id": "4E66PEQLdFEQ",
        "colab_type": "code",
        "outputId": "eec4c2be-ef73-4374-828f-fb95bc29491f",
        "colab": {
          "base_uri": "https://localhost:8080/",
          "height": 371
        }
      },
      "source": [
        "import io\n",
        "df = pd.read_csv(io.BytesIO(uploaded['titanic_train.csv']))\n",
        "df.head()"
      ],
      "execution_count": 0,
      "outputs": [
        {
          "output_type": "execute_result",
          "data": {
            "text/html": [
              "<div>\n",
              "<style scoped>\n",
              "    .dataframe tbody tr th:only-of-type {\n",
              "        vertical-align: middle;\n",
              "    }\n",
              "\n",
              "    .dataframe tbody tr th {\n",
              "        vertical-align: top;\n",
              "    }\n",
              "\n",
              "    .dataframe thead th {\n",
              "        text-align: right;\n",
              "    }\n",
              "</style>\n",
              "<table border=\"1\" class=\"dataframe\">\n",
              "  <thead>\n",
              "    <tr style=\"text-align: right;\">\n",
              "      <th></th>\n",
              "      <th>PassengerId</th>\n",
              "      <th>Pclass</th>\n",
              "      <th>Name</th>\n",
              "      <th>Sex</th>\n",
              "      <th>Age</th>\n",
              "      <th>SibSp</th>\n",
              "      <th>Parch</th>\n",
              "      <th>Ticket</th>\n",
              "      <th>Fare</th>\n",
              "      <th>Cabin</th>\n",
              "      <th>Embarked</th>\n",
              "    </tr>\n",
              "  </thead>\n",
              "  <tbody>\n",
              "    <tr>\n",
              "      <th>0</th>\n",
              "      <td>892</td>\n",
              "      <td>3</td>\n",
              "      <td>Kelly, Mr. James</td>\n",
              "      <td>male</td>\n",
              "      <td>34.5</td>\n",
              "      <td>0</td>\n",
              "      <td>0</td>\n",
              "      <td>330911</td>\n",
              "      <td>7.8292</td>\n",
              "      <td>NaN</td>\n",
              "      <td>Q</td>\n",
              "    </tr>\n",
              "    <tr>\n",
              "      <th>1</th>\n",
              "      <td>893</td>\n",
              "      <td>3</td>\n",
              "      <td>Wilkes, Mrs. James (Ellen Needs)</td>\n",
              "      <td>female</td>\n",
              "      <td>47.0</td>\n",
              "      <td>1</td>\n",
              "      <td>0</td>\n",
              "      <td>363272</td>\n",
              "      <td>7.0000</td>\n",
              "      <td>NaN</td>\n",
              "      <td>S</td>\n",
              "    </tr>\n",
              "    <tr>\n",
              "      <th>2</th>\n",
              "      <td>894</td>\n",
              "      <td>2</td>\n",
              "      <td>Myles, Mr. Thomas Francis</td>\n",
              "      <td>male</td>\n",
              "      <td>62.0</td>\n",
              "      <td>0</td>\n",
              "      <td>0</td>\n",
              "      <td>240276</td>\n",
              "      <td>9.6875</td>\n",
              "      <td>NaN</td>\n",
              "      <td>Q</td>\n",
              "    </tr>\n",
              "    <tr>\n",
              "      <th>3</th>\n",
              "      <td>895</td>\n",
              "      <td>3</td>\n",
              "      <td>Wirz, Mr. Albert</td>\n",
              "      <td>male</td>\n",
              "      <td>27.0</td>\n",
              "      <td>0</td>\n",
              "      <td>0</td>\n",
              "      <td>315154</td>\n",
              "      <td>8.6625</td>\n",
              "      <td>NaN</td>\n",
              "      <td>S</td>\n",
              "    </tr>\n",
              "    <tr>\n",
              "      <th>4</th>\n",
              "      <td>896</td>\n",
              "      <td>3</td>\n",
              "      <td>Hirvonen, Mrs. Alexander (Helga E Lindqvist)</td>\n",
              "      <td>female</td>\n",
              "      <td>22.0</td>\n",
              "      <td>1</td>\n",
              "      <td>1</td>\n",
              "      <td>3101298</td>\n",
              "      <td>12.2875</td>\n",
              "      <td>NaN</td>\n",
              "      <td>S</td>\n",
              "    </tr>\n",
              "  </tbody>\n",
              "</table>\n",
              "</div>"
            ],
            "text/plain": [
              "   PassengerId  Pclass  ... Cabin Embarked\n",
              "0          892       3  ...   NaN        Q\n",
              "1          893       3  ...   NaN        S\n",
              "2          894       2  ...   NaN        Q\n",
              "3          895       3  ...   NaN        S\n",
              "4          896       3  ...   NaN        S\n",
              "\n",
              "[5 rows x 11 columns]"
            ]
          },
          "metadata": {
            "tags": []
          },
          "execution_count": 375
        }
      ]
    },
    {
      "cell_type": "markdown",
      "metadata": {
        "id": "H6ZqFtD7d7Rp",
        "colab_type": "text"
      },
      "source": [
        "# Exploratory Analysis"
      ]
    },
    {
      "cell_type": "code",
      "metadata": {
        "id": "vPPgd3uFdQMO",
        "colab_type": "code",
        "outputId": "d73a74a3-ead3-42ef-dae7-56915207c876",
        "colab": {
          "base_uri": "https://localhost:8080/",
          "height": 363
        }
      },
      "source": [
        "df.info()"
      ],
      "execution_count": 0,
      "outputs": [
        {
          "output_type": "stream",
          "text": [
            "<class 'pandas.core.frame.DataFrame'>\n",
            "RangeIndex: 891 entries, 0 to 890\n",
            "Data columns (total 12 columns):\n",
            " #   Column       Non-Null Count  Dtype  \n",
            "---  ------       --------------  -----  \n",
            " 0   PassengerId  891 non-null    int64  \n",
            " 1   Pclass       891 non-null    int64  \n",
            " 2   Name         891 non-null    object \n",
            " 3   Sex          891 non-null    object \n",
            " 4   Age          714 non-null    float64\n",
            " 5   SibSp        891 non-null    int64  \n",
            " 6   Parch        891 non-null    int64  \n",
            " 7   Ticket       891 non-null    object \n",
            " 8   Fare         891 non-null    float64\n",
            " 9   Cabin        204 non-null    object \n",
            " 10  Embarked     889 non-null    object \n",
            " 11  Survived     891 non-null    int64  \n",
            "dtypes: float64(2), int64(5), object(5)\n",
            "memory usage: 83.7+ KB\n"
          ],
          "name": "stdout"
        }
      ]
    },
    {
      "cell_type": "code",
      "metadata": {
        "id": "DMGmmNJWegM5",
        "colab_type": "code",
        "outputId": "15ac89f4-c35a-4977-f4a3-d7502d521fde",
        "colab": {
          "base_uri": "https://localhost:8080/",
          "height": 258
        }
      },
      "source": [
        "df.describe().transpose()"
      ],
      "execution_count": 0,
      "outputs": [
        {
          "output_type": "execute_result",
          "data": {
            "text/html": [
              "<div>\n",
              "<style scoped>\n",
              "    .dataframe tbody tr th:only-of-type {\n",
              "        vertical-align: middle;\n",
              "    }\n",
              "\n",
              "    .dataframe tbody tr th {\n",
              "        vertical-align: top;\n",
              "    }\n",
              "\n",
              "    .dataframe thead th {\n",
              "        text-align: right;\n",
              "    }\n",
              "</style>\n",
              "<table border=\"1\" class=\"dataframe\">\n",
              "  <thead>\n",
              "    <tr style=\"text-align: right;\">\n",
              "      <th></th>\n",
              "      <th>count</th>\n",
              "      <th>mean</th>\n",
              "      <th>std</th>\n",
              "      <th>min</th>\n",
              "      <th>25%</th>\n",
              "      <th>50%</th>\n",
              "      <th>75%</th>\n",
              "      <th>max</th>\n",
              "    </tr>\n",
              "  </thead>\n",
              "  <tbody>\n",
              "    <tr>\n",
              "      <th>PassengerId</th>\n",
              "      <td>891.0</td>\n",
              "      <td>446.000000</td>\n",
              "      <td>257.353842</td>\n",
              "      <td>1.00</td>\n",
              "      <td>223.5000</td>\n",
              "      <td>446.0000</td>\n",
              "      <td>668.5</td>\n",
              "      <td>891.0000</td>\n",
              "    </tr>\n",
              "    <tr>\n",
              "      <th>Pclass</th>\n",
              "      <td>891.0</td>\n",
              "      <td>2.308642</td>\n",
              "      <td>0.836071</td>\n",
              "      <td>1.00</td>\n",
              "      <td>2.0000</td>\n",
              "      <td>3.0000</td>\n",
              "      <td>3.0</td>\n",
              "      <td>3.0000</td>\n",
              "    </tr>\n",
              "    <tr>\n",
              "      <th>Age</th>\n",
              "      <td>714.0</td>\n",
              "      <td>29.699118</td>\n",
              "      <td>14.526497</td>\n",
              "      <td>0.42</td>\n",
              "      <td>20.1250</td>\n",
              "      <td>28.0000</td>\n",
              "      <td>38.0</td>\n",
              "      <td>80.0000</td>\n",
              "    </tr>\n",
              "    <tr>\n",
              "      <th>SibSp</th>\n",
              "      <td>891.0</td>\n",
              "      <td>0.523008</td>\n",
              "      <td>1.102743</td>\n",
              "      <td>0.00</td>\n",
              "      <td>0.0000</td>\n",
              "      <td>0.0000</td>\n",
              "      <td>1.0</td>\n",
              "      <td>8.0000</td>\n",
              "    </tr>\n",
              "    <tr>\n",
              "      <th>Parch</th>\n",
              "      <td>891.0</td>\n",
              "      <td>0.381594</td>\n",
              "      <td>0.806057</td>\n",
              "      <td>0.00</td>\n",
              "      <td>0.0000</td>\n",
              "      <td>0.0000</td>\n",
              "      <td>0.0</td>\n",
              "      <td>6.0000</td>\n",
              "    </tr>\n",
              "    <tr>\n",
              "      <th>Fare</th>\n",
              "      <td>891.0</td>\n",
              "      <td>32.204208</td>\n",
              "      <td>49.693429</td>\n",
              "      <td>0.00</td>\n",
              "      <td>7.9104</td>\n",
              "      <td>14.4542</td>\n",
              "      <td>31.0</td>\n",
              "      <td>512.3292</td>\n",
              "    </tr>\n",
              "    <tr>\n",
              "      <th>Survived</th>\n",
              "      <td>891.0</td>\n",
              "      <td>0.383838</td>\n",
              "      <td>0.486592</td>\n",
              "      <td>0.00</td>\n",
              "      <td>0.0000</td>\n",
              "      <td>0.0000</td>\n",
              "      <td>1.0</td>\n",
              "      <td>1.0000</td>\n",
              "    </tr>\n",
              "  </tbody>\n",
              "</table>\n",
              "</div>"
            ],
            "text/plain": [
              "             count        mean         std  ...       50%    75%       max\n",
              "PassengerId  891.0  446.000000  257.353842  ...  446.0000  668.5  891.0000\n",
              "Pclass       891.0    2.308642    0.836071  ...    3.0000    3.0    3.0000\n",
              "Age          714.0   29.699118   14.526497  ...   28.0000   38.0   80.0000\n",
              "SibSp        891.0    0.523008    1.102743  ...    0.0000    1.0    8.0000\n",
              "Parch        891.0    0.381594    0.806057  ...    0.0000    0.0    6.0000\n",
              "Fare         891.0   32.204208   49.693429  ...   14.4542   31.0  512.3292\n",
              "Survived     891.0    0.383838    0.486592  ...    0.0000    1.0    1.0000\n",
              "\n",
              "[7 rows x 8 columns]"
            ]
          },
          "metadata": {
            "tags": []
          },
          "execution_count": 123
        }
      ]
    },
    {
      "cell_type": "code",
      "metadata": {
        "id": "Jg68uKcneLBd",
        "colab_type": "code",
        "outputId": "50960766-069c-4270-aae8-1ec12ec3687b",
        "colab": {
          "base_uri": "https://localhost:8080/",
          "height": 531
        }
      },
      "source": [
        "mask=np.zeros_like(df.corr())\n",
        "triangle_indices=np.triu_indices_from(mask)\n",
        "mask[triangle_indices]=True\n",
        "mask\n",
        "\n",
        "plt.figure(figsize=(16,10))\n",
        "sns.heatmap(df.corr(), mask=mask, cmap=\"coolwarm\",annot=True, annot_kws={'size':14})\n",
        "plt.xticks(fontsize=14)\n",
        "plt.yticks(fontsize=12)\n",
        "plt.show()"
      ],
      "execution_count": 0,
      "outputs": [
        {
          "output_type": "display_data",
          "data": {
            "image/png": "[encoded data removed]",
            "text/plain": [
              "<Figure size 1152x720 with 2 Axes>"
            ]
          },
          "metadata": {
            "tags": [],
            "needs_background": "light"
          }
        }
      ]
    },
    {
      "cell_type": "code",
      "metadata": {
        "id": "-Jq7CNNwe0DN",
        "colab_type": "code",
        "outputId": "1ca2fa09-d1fc-42cd-c05a-331a62cbf759",
        "colab": {
          "base_uri": "https://localhost:8080/",
          "height": 531
        }
      },
      "source": [
        "#Heat Map com matplotlib and seaborn\n",
        "plt.figure(figsize=(16,10))\n",
        "sns.heatmap(df.corr(), mask=mask, cmap=\"coolwarm\",annot=True, annot_kws={'size':14})\n",
        "plt.xticks(fontsize=14)\n",
        "plt.yticks(fontsize=12)\n",
        "plt.show()"
      ],
      "execution_count": 0,
      "outputs": [
        {
          "output_type": "display_data",
          "data": {
            "image/png": "[encoded data removed]",
            "text/plain": [
              "<Figure size 1152x720 with 2 Axes>"
            ]
          },
          "metadata": {
            "tags": [],
            "needs_background": "light"
          }
        }
      ]
    },
    {
      "cell_type": "code",
      "metadata": {
        "id": "KfMAjCoxe1QN",
        "colab_type": "code",
        "colab": {}
      },
      "source": [
        "df=df.drop('PassengerId',axis=1)"
      ],
      "execution_count": 0,
      "outputs": []
    },
    {
      "cell_type": "code",
      "metadata": {
        "id": "hQb4t1XUfSjl",
        "colab_type": "code",
        "colab": {}
      },
      "source": [
        "df=df.drop('Name',axis=1)"
      ],
      "execution_count": 0,
      "outputs": []
    },
    {
      "cell_type": "code",
      "metadata": {
        "id": "4gx7NHy8flRh",
        "colab_type": "code",
        "outputId": "fcec1d1e-ec8e-445f-af45-2a3665c27684",
        "colab": {
          "base_uri": "https://localhost:8080/",
          "height": 297
        }
      },
      "source": [
        "sns.countplot(x='Survived',data=df)"
      ],
      "execution_count": 0,
      "outputs": [
        {
          "output_type": "execute_result",
          "data": {
            "text/plain": [
              "<matplotlib.axes._subplots.AxesSubplot at 0x7fcac531e550>"
            ]
          },
          "metadata": {
            "tags": []
          },
          "execution_count": 128
        },
        {
          "output_type": "display_data",
          "data": {
            "image/png": "[encoded data removed]",
            "text/plain": [
              "<Figure size 432x288 with 1 Axes>"
            ]
          },
          "metadata": {
            "tags": [],
            "needs_background": "light"
          }
        }
      ]
    },
    {
      "cell_type": "code",
      "metadata": {
        "id": "_k250N85fnwh",
        "colab_type": "code",
        "outputId": "11eb907e-0f5a-42ec-81e0-5feeb863c1b2",
        "colab": {
          "base_uri": "https://localhost:8080/",
          "height": 469
        }
      },
      "source": [
        "plt.figure(figsize=(14,8))\n",
        "sns.boxplot(x='Survived',y='Age',data=df)"
      ],
      "execution_count": 0,
      "outputs": [
        {
          "output_type": "execute_result",
          "data": {
            "text/plain": [
              "<matplotlib.axes._subplots.AxesSubplot at 0x7fcad1a3b9e8>"
            ]
          },
          "metadata": {
            "tags": []
          },
          "execution_count": 129
        },
        {
          "output_type": "display_data",
          "data": {
            "image/png": "[encoded data removed]",
            "text/plain": [
              "<Figure size 1008x576 with 1 Axes>"
            ]
          },
          "metadata": {
            "tags": [],
            "needs_background": "light"
          }
        }
      ]
    },
    {
      "cell_type": "code",
      "metadata": {
        "id": "lSZ1ZBhCgF2k",
        "colab_type": "code",
        "outputId": "8f68cb28-54ed-4940-a6e9-f64da6f0f6ad",
        "colab": {
          "base_uri": "https://localhost:8080/",
          "height": 474
        }
      },
      "source": [
        "plt.figure(figsize=(14,8))\n",
        "sns.distplot(df['Pclass'],bins=3, kde=False,color='#1c869c')"
      ],
      "execution_count": 0,
      "outputs": [
        {
          "output_type": "execute_result",
          "data": {
            "text/plain": [
              "<matplotlib.axes._subplots.AxesSubplot at 0x7fcac51a5588>"
            ]
          },
          "metadata": {
            "tags": []
          },
          "execution_count": 130
        },
        {
          "output_type": "display_data",
          "data": {
            "image/png": "[encoded data removed]",
            "text/plain": [
              "<Figure size 1008x576 with 1 Axes>"
            ]
          },
          "metadata": {
            "tags": [],
            "needs_background": "light"
          }
        }
      ]
    },
    {
      "cell_type": "code",
      "metadata": {
        "id": "nWEeevV4gHUx",
        "colab_type": "code",
        "outputId": "25b79e17-32db-42d3-f020-ed136f12fd7f",
        "colab": {
          "base_uri": "https://localhost:8080/",
          "height": 466
        }
      },
      "source": [
        "plt.figure(figsize=(14,8))\n",
        "sns.countplot(x='Survived',hue='Pclass',data=df)"
      ],
      "execution_count": 0,
      "outputs": [
        {
          "output_type": "execute_result",
          "data": {
            "text/plain": [
              "<matplotlib.axes._subplots.AxesSubplot at 0x7fcac52f2320>"
            ]
          },
          "metadata": {
            "tags": []
          },
          "execution_count": 131
        },
        {
          "output_type": "display_data",
          "data": {
            "image/png": "[encoded data removed]",
            "text/plain": [
              "<Figure size 1008x576 with 1 Axes>"
            ]
          },
          "metadata": {
            "tags": [],
            "needs_background": "light"
          }
        }
      ]
    },
    {
      "cell_type": "code",
      "metadata": {
        "id": "GdJDdK5HhIG2",
        "colab_type": "code",
        "outputId": "1303a8ef-9884-49f9-e54d-3044388133e3",
        "colab": {
          "base_uri": "https://localhost:8080/",
          "height": 466
        }
      },
      "source": [
        "plt.figure(figsize=(14,8))\n",
        "sns.countplot(x='Survived',hue='SibSp',data=df)"
      ],
      "execution_count": 0,
      "outputs": [
        {
          "output_type": "execute_result",
          "data": {
            "text/plain": [
              "<matplotlib.axes._subplots.AxesSubplot at 0x7fcad7fa40f0>"
            ]
          },
          "metadata": {
            "tags": []
          },
          "execution_count": 132
        },
        {
          "output_type": "display_data",
          "data": {
            "image/png": "[encoded data removed]",
            "text/plain": [
              "<Figure size 1008x576 with 1 Axes>"
            ]
          },
          "metadata": {
            "tags": [],
            "needs_background": "light"
          }
        }
      ]
    },
    {
      "cell_type": "code",
      "metadata": {
        "id": "uk3liIXYhMlS",
        "colab_type": "code",
        "outputId": "da662f2e-b91f-48e0-cf83-def2068d9923",
        "colab": {
          "base_uri": "https://localhost:8080/",
          "height": 466
        }
      },
      "source": [
        "plt.figure(figsize=(14,8))\n",
        "sns.countplot(x='Survived',hue='Parch',data=df)"
      ],
      "execution_count": 0,
      "outputs": [
        {
          "output_type": "execute_result",
          "data": {
            "text/plain": [
              "<matplotlib.axes._subplots.AxesSubplot at 0x7fcad5f7bac8>"
            ]
          },
          "metadata": {
            "tags": []
          },
          "execution_count": 133
        },
        {
          "output_type": "display_data",
          "data": {
            "image/png": "[encoded data removed]",
            "text/plain": [
              "<Figure size 1008x576 with 1 Axes>"
            ]
          },
          "metadata": {
            "tags": [],
            "needs_background": "light"
          }
        }
      ]
    },
    {
      "cell_type": "code",
      "metadata": {
        "id": "BbOp2WQogjHn",
        "colab_type": "code",
        "outputId": "220cb382-83db-4a75-c4e1-23ddf468a7fb",
        "colab": {
          "base_uri": "https://localhost:8080/",
          "height": 198
        }
      },
      "source": [
        "df.head()"
      ],
      "execution_count": 0,
      "outputs": [
        {
          "output_type": "execute_result",
          "data": {
            "text/html": [
              "<div>\n",
              "<style scoped>\n",
              "    .dataframe tbody tr th:only-of-type {\n",
              "        vertical-align: middle;\n",
              "    }\n",
              "\n",
              "    .dataframe tbody tr th {\n",
              "        vertical-align: top;\n",
              "    }\n",
              "\n",
              "    .dataframe thead th {\n",
              "        text-align: right;\n",
              "    }\n",
              "</style>\n",
              "<table border=\"1\" class=\"dataframe\">\n",
              "  <thead>\n",
              "    <tr style=\"text-align: right;\">\n",
              "      <th></th>\n",
              "      <th>Pclass</th>\n",
              "      <th>Sex</th>\n",
              "      <th>Age</th>\n",
              "      <th>SibSp</th>\n",
              "      <th>Parch</th>\n",
              "      <th>Ticket</th>\n",
              "      <th>Fare</th>\n",
              "      <th>Cabin</th>\n",
              "      <th>Embarked</th>\n",
              "      <th>Survived</th>\n",
              "    </tr>\n",
              "  </thead>\n",
              "  <tbody>\n",
              "    <tr>\n",
              "      <th>0</th>\n",
              "      <td>3</td>\n",
              "      <td>male</td>\n",
              "      <td>22.0</td>\n",
              "      <td>1</td>\n",
              "      <td>0</td>\n",
              "      <td>A/5 21171</td>\n",
              "      <td>7.2500</td>\n",
              "      <td>NaN</td>\n",
              "      <td>S</td>\n",
              "      <td>0</td>\n",
              "    </tr>\n",
              "    <tr>\n",
              "      <th>1</th>\n",
              "      <td>1</td>\n",
              "      <td>female</td>\n",
              "      <td>38.0</td>\n",
              "      <td>1</td>\n",
              "      <td>0</td>\n",
              "      <td>PC 17599</td>\n",
              "      <td>71.2833</td>\n",
              "      <td>C85</td>\n",
              "      <td>C</td>\n",
              "      <td>1</td>\n",
              "    </tr>\n",
              "    <tr>\n",
              "      <th>2</th>\n",
              "      <td>3</td>\n",
              "      <td>female</td>\n",
              "      <td>26.0</td>\n",
              "      <td>0</td>\n",
              "      <td>0</td>\n",
              "      <td>STON/O2. 3101282</td>\n",
              "      <td>7.9250</td>\n",
              "      <td>NaN</td>\n",
              "      <td>S</td>\n",
              "      <td>1</td>\n",
              "    </tr>\n",
              "    <tr>\n",
              "      <th>3</th>\n",
              "      <td>1</td>\n",
              "      <td>female</td>\n",
              "      <td>35.0</td>\n",
              "      <td>1</td>\n",
              "      <td>0</td>\n",
              "      <td>113803</td>\n",
              "      <td>53.1000</td>\n",
              "      <td>C123</td>\n",
              "      <td>S</td>\n",
              "      <td>1</td>\n",
              "    </tr>\n",
              "    <tr>\n",
              "      <th>4</th>\n",
              "      <td>3</td>\n",
              "      <td>male</td>\n",
              "      <td>35.0</td>\n",
              "      <td>0</td>\n",
              "      <td>0</td>\n",
              "      <td>373450</td>\n",
              "      <td>8.0500</td>\n",
              "      <td>NaN</td>\n",
              "      <td>S</td>\n",
              "      <td>0</td>\n",
              "    </tr>\n",
              "  </tbody>\n",
              "</table>\n",
              "</div>"
            ],
            "text/plain": [
              "   Pclass     Sex   Age  SibSp  ...     Fare Cabin  Embarked Survived\n",
              "0       3    male  22.0      1  ...   7.2500   NaN         S        0\n",
              "1       1  female  38.0      1  ...  71.2833   C85         C        1\n",
              "2       3  female  26.0      0  ...   7.9250   NaN         S        1\n",
              "3       1  female  35.0      1  ...  53.1000  C123         S        1\n",
              "4       3    male  35.0      0  ...   8.0500   NaN         S        0\n",
              "\n",
              "[5 rows x 10 columns]"
            ]
          },
          "metadata": {
            "tags": []
          },
          "execution_count": 134
        }
      ]
    },
    {
      "cell_type": "code",
      "metadata": {
        "id": "EKAzAi2Mgr05",
        "colab_type": "code",
        "outputId": "adf72164-a16e-459e-8b93-862bae3e233d",
        "colab": {
          "base_uri": "https://localhost:8080/",
          "height": 198
        }
      },
      "source": [
        "df=df.drop('Ticket',axis=1)\n",
        "df.head()"
      ],
      "execution_count": 0,
      "outputs": [
        {
          "output_type": "execute_result",
          "data": {
            "text/html": [
              "<div>\n",
              "<style scoped>\n",
              "    .dataframe tbody tr th:only-of-type {\n",
              "        vertical-align: middle;\n",
              "    }\n",
              "\n",
              "    .dataframe tbody tr th {\n",
              "        vertical-align: top;\n",
              "    }\n",
              "\n",
              "    .dataframe thead th {\n",
              "        text-align: right;\n",
              "    }\n",
              "</style>\n",
              "<table border=\"1\" class=\"dataframe\">\n",
              "  <thead>\n",
              "    <tr style=\"text-align: right;\">\n",
              "      <th></th>\n",
              "      <th>Pclass</th>\n",
              "      <th>Sex</th>\n",
              "      <th>Age</th>\n",
              "      <th>SibSp</th>\n",
              "      <th>Parch</th>\n",
              "      <th>Fare</th>\n",
              "      <th>Cabin</th>\n",
              "      <th>Embarked</th>\n",
              "    </tr>\n",
              "  </thead>\n",
              "  <tbody>\n",
              "    <tr>\n",
              "      <th>0</th>\n",
              "      <td>3</td>\n",
              "      <td>male</td>\n",
              "      <td>34.5</td>\n",
              "      <td>0</td>\n",
              "      <td>0</td>\n",
              "      <td>7.8292</td>\n",
              "      <td>NaN</td>\n",
              "      <td>Q</td>\n",
              "    </tr>\n",
              "    <tr>\n",
              "      <th>1</th>\n",
              "      <td>3</td>\n",
              "      <td>female</td>\n",
              "      <td>47.0</td>\n",
              "      <td>1</td>\n",
              "      <td>0</td>\n",
              "      <td>7.0000</td>\n",
              "      <td>NaN</td>\n",
              "      <td>S</td>\n",
              "    </tr>\n",
              "    <tr>\n",
              "      <th>2</th>\n",
              "      <td>2</td>\n",
              "      <td>male</td>\n",
              "      <td>62.0</td>\n",
              "      <td>0</td>\n",
              "      <td>0</td>\n",
              "      <td>9.6875</td>\n",
              "      <td>NaN</td>\n",
              "      <td>Q</td>\n",
              "    </tr>\n",
              "    <tr>\n",
              "      <th>3</th>\n",
              "      <td>3</td>\n",
              "      <td>male</td>\n",
              "      <td>27.0</td>\n",
              "      <td>0</td>\n",
              "      <td>0</td>\n",
              "      <td>8.6625</td>\n",
              "      <td>NaN</td>\n",
              "      <td>S</td>\n",
              "    </tr>\n",
              "    <tr>\n",
              "      <th>4</th>\n",
              "      <td>3</td>\n",
              "      <td>female</td>\n",
              "      <td>22.0</td>\n",
              "      <td>1</td>\n",
              "      <td>1</td>\n",
              "      <td>12.2875</td>\n",
              "      <td>NaN</td>\n",
              "      <td>S</td>\n",
              "    </tr>\n",
              "  </tbody>\n",
              "</table>\n",
              "</div>"
            ],
            "text/plain": [
              "   Pclass     Sex   Age  SibSp  Parch     Fare Cabin Embarked\n",
              "0       3    male  34.5      0      0   7.8292   NaN        Q\n",
              "1       3  female  47.0      1      0   7.0000   NaN        S\n",
              "2       2    male  62.0      0      0   9.6875   NaN        Q\n",
              "3       3    male  27.0      0      0   8.6625   NaN        S\n",
              "4       3  female  22.0      1      1  12.2875   NaN        S"
            ]
          },
          "metadata": {
            "tags": []
          },
          "execution_count": 378
        }
      ]
    },
    {
      "cell_type": "code",
      "metadata": {
        "id": "b9dnBWvHgx3V",
        "colab_type": "code",
        "outputId": "81f31415-50dd-4310-f154-2233e9133c67",
        "colab": {
          "base_uri": "https://localhost:8080/",
          "height": 308
        }
      },
      "source": [
        "df.info()"
      ],
      "execution_count": 0,
      "outputs": [
        {
          "output_type": "stream",
          "text": [
            "<class 'pandas.core.frame.DataFrame'>\n",
            "RangeIndex: 891 entries, 0 to 890\n",
            "Data columns (total 9 columns):\n",
            " #   Column    Non-Null Count  Dtype  \n",
            "---  ------    --------------  -----  \n",
            " 0   Pclass    891 non-null    int64  \n",
            " 1   Sex       891 non-null    object \n",
            " 2   Age       714 non-null    float64\n",
            " 3   SibSp     891 non-null    int64  \n",
            " 4   Parch     891 non-null    int64  \n",
            " 5   Fare      891 non-null    float64\n",
            " 6   Cabin     204 non-null    object \n",
            " 7   Embarked  889 non-null    object \n",
            " 8   Survived  891 non-null    int64  \n",
            "dtypes: float64(2), int64(4), object(3)\n",
            "memory usage: 62.8+ KB\n"
          ],
          "name": "stdout"
        }
      ]
    },
    {
      "cell_type": "code",
      "metadata": {
        "id": "WfHyT3ExhASA",
        "colab_type": "code",
        "colab": {}
      },
      "source": [
        "df['Age']=df['Age'].fillna(df['Age'].mean())"
      ],
      "execution_count": 0,
      "outputs": []
    },
    {
      "cell_type": "code",
      "metadata": {
        "id": "FqiyupDpiT2q",
        "colab_type": "code",
        "outputId": "b286c7ff-0be7-4ee0-f99b-2af9b8453049",
        "colab": {
          "base_uri": "https://localhost:8080/",
          "height": 308
        }
      },
      "source": [
        "df.info()"
      ],
      "execution_count": 0,
      "outputs": [
        {
          "output_type": "stream",
          "text": [
            "<class 'pandas.core.frame.DataFrame'>\n",
            "RangeIndex: 891 entries, 0 to 890\n",
            "Data columns (total 9 columns):\n",
            " #   Column    Non-Null Count  Dtype  \n",
            "---  ------    --------------  -----  \n",
            " 0   Pclass    891 non-null    int64  \n",
            " 1   Sex       891 non-null    object \n",
            " 2   Age       891 non-null    float64\n",
            " 3   SibSp     891 non-null    int64  \n",
            " 4   Parch     891 non-null    int64  \n",
            " 5   Fare      891 non-null    float64\n",
            " 6   Cabin     204 non-null    object \n",
            " 7   Embarked  889 non-null    object \n",
            " 8   Survived  891 non-null    int64  \n",
            "dtypes: float64(2), int64(4), object(3)\n",
            "memory usage: 62.8+ KB\n"
          ],
          "name": "stdout"
        }
      ]
    },
    {
      "cell_type": "code",
      "metadata": {
        "id": "Tmx1-XMOiVZw",
        "colab_type": "code",
        "outputId": "190f4183-3b30-44f7-b730-1694df43a35b",
        "colab": {
          "base_uri": "https://localhost:8080/",
          "height": 235
        }
      },
      "source": [
        "df['Cabin'].value_counts()"
      ],
      "execution_count": 0,
      "outputs": [
        {
          "output_type": "execute_result",
          "data": {
            "text/plain": [
              "C23 C25 C27    4\n",
              "G6             4\n",
              "B96 B98        4\n",
              "F2             3\n",
              "C22 C26        3\n",
              "              ..\n",
              "E58            1\n",
              "D7             1\n",
              "D30            1\n",
              "B79            1\n",
              "E40            1\n",
              "Name: Cabin, Length: 147, dtype: int64"
            ]
          },
          "metadata": {
            "tags": []
          },
          "execution_count": 139
        }
      ]
    },
    {
      "cell_type": "code",
      "metadata": {
        "id": "ZLePSnIFjagu",
        "colab_type": "code",
        "outputId": "05c47991-ad34-43e5-a346-eede57a4be6d",
        "colab": {
          "base_uri": "https://localhost:8080/",
          "height": 181
        }
      },
      "source": [
        "df['Cabin'] = df['Cabin'].str[:1]\n",
        "df['Cabin'].value_counts()"
      ],
      "execution_count": 0,
      "outputs": [
        {
          "output_type": "execute_result",
          "data": {
            "text/plain": [
              "C    35\n",
              "B    18\n",
              "D    13\n",
              "E     9\n",
              "F     8\n",
              "A     7\n",
              "T     1\n",
              "G     1\n",
              "Name: Cabin, dtype: int64"
            ]
          },
          "metadata": {
            "tags": []
          },
          "execution_count": 380
        }
      ]
    },
    {
      "cell_type": "code",
      "metadata": {
        "id": "segK5l-4lGhf",
        "colab_type": "code",
        "outputId": "1efb80f7-f84e-4bd8-fca6-43b201bad927",
        "colab": {
          "base_uri": "https://localhost:8080/",
          "height": 198
        }
      },
      "source": [
        "df.head()"
      ],
      "execution_count": 0,
      "outputs": [
        {
          "output_type": "execute_result",
          "data": {
            "text/html": [
              "<div>\n",
              "<style scoped>\n",
              "    .dataframe tbody tr th:only-of-type {\n",
              "        vertical-align: middle;\n",
              "    }\n",
              "\n",
              "    .dataframe tbody tr th {\n",
              "        vertical-align: top;\n",
              "    }\n",
              "\n",
              "    .dataframe thead th {\n",
              "        text-align: right;\n",
              "    }\n",
              "</style>\n",
              "<table border=\"1\" class=\"dataframe\">\n",
              "  <thead>\n",
              "    <tr style=\"text-align: right;\">\n",
              "      <th></th>\n",
              "      <th>Pclass</th>\n",
              "      <th>Sex</th>\n",
              "      <th>Age</th>\n",
              "      <th>SibSp</th>\n",
              "      <th>Parch</th>\n",
              "      <th>Fare</th>\n",
              "      <th>Cabin</th>\n",
              "      <th>Embarked</th>\n",
              "      <th>Survived</th>\n",
              "    </tr>\n",
              "  </thead>\n",
              "  <tbody>\n",
              "    <tr>\n",
              "      <th>0</th>\n",
              "      <td>3</td>\n",
              "      <td>male</td>\n",
              "      <td>22.0</td>\n",
              "      <td>1</td>\n",
              "      <td>0</td>\n",
              "      <td>7.2500</td>\n",
              "      <td>NaN</td>\n",
              "      <td>S</td>\n",
              "      <td>0</td>\n",
              "    </tr>\n",
              "    <tr>\n",
              "      <th>1</th>\n",
              "      <td>1</td>\n",
              "      <td>female</td>\n",
              "      <td>38.0</td>\n",
              "      <td>1</td>\n",
              "      <td>0</td>\n",
              "      <td>71.2833</td>\n",
              "      <td>C</td>\n",
              "      <td>C</td>\n",
              "      <td>1</td>\n",
              "    </tr>\n",
              "    <tr>\n",
              "      <th>2</th>\n",
              "      <td>3</td>\n",
              "      <td>female</td>\n",
              "      <td>26.0</td>\n",
              "      <td>0</td>\n",
              "      <td>0</td>\n",
              "      <td>7.9250</td>\n",
              "      <td>NaN</td>\n",
              "      <td>S</td>\n",
              "      <td>1</td>\n",
              "    </tr>\n",
              "    <tr>\n",
              "      <th>3</th>\n",
              "      <td>1</td>\n",
              "      <td>female</td>\n",
              "      <td>35.0</td>\n",
              "      <td>1</td>\n",
              "      <td>0</td>\n",
              "      <td>53.1000</td>\n",
              "      <td>C</td>\n",
              "      <td>S</td>\n",
              "      <td>1</td>\n",
              "    </tr>\n",
              "    <tr>\n",
              "      <th>4</th>\n",
              "      <td>3</td>\n",
              "      <td>male</td>\n",
              "      <td>35.0</td>\n",
              "      <td>0</td>\n",
              "      <td>0</td>\n",
              "      <td>8.0500</td>\n",
              "      <td>NaN</td>\n",
              "      <td>S</td>\n",
              "      <td>0</td>\n",
              "    </tr>\n",
              "  </tbody>\n",
              "</table>\n",
              "</div>"
            ],
            "text/plain": [
              "   Pclass     Sex   Age  SibSp  Parch     Fare Cabin Embarked  Survived\n",
              "0       3    male  22.0      1      0   7.2500   NaN        S         0\n",
              "1       1  female  38.0      1      0  71.2833     C        C         1\n",
              "2       3  female  26.0      0      0   7.9250   NaN        S         1\n",
              "3       1  female  35.0      1      0  53.1000     C        S         1\n",
              "4       3    male  35.0      0      0   8.0500   NaN        S         0"
            ]
          },
          "metadata": {
            "tags": []
          },
          "execution_count": 141
        }
      ]
    },
    {
      "cell_type": "markdown",
      "metadata": {
        "id": "0z3V9ZUJlY-n",
        "colab_type": "text"
      },
      "source": [
        "#Hot Encoding or dummy variables"
      ]
    },
    {
      "cell_type": "code",
      "metadata": {
        "id": "W2RmfvOOmr1P",
        "colab_type": "code",
        "outputId": "d07a3027-dbb1-4bc3-82be-9a8ae6d27b02",
        "colab": {
          "base_uri": "https://localhost:8080/",
          "height": 198
        }
      },
      "source": [
        "df['Sex']=df['Sex'].map({'male':0,'female':1})\n",
        "df.head()"
      ],
      "execution_count": 0,
      "outputs": [
        {
          "output_type": "execute_result",
          "data": {
            "text/html": [
              "<div>\n",
              "<style scoped>\n",
              "    .dataframe tbody tr th:only-of-type {\n",
              "        vertical-align: middle;\n",
              "    }\n",
              "\n",
              "    .dataframe tbody tr th {\n",
              "        vertical-align: top;\n",
              "    }\n",
              "\n",
              "    .dataframe thead th {\n",
              "        text-align: right;\n",
              "    }\n",
              "</style>\n",
              "<table border=\"1\" class=\"dataframe\">\n",
              "  <thead>\n",
              "    <tr style=\"text-align: right;\">\n",
              "      <th></th>\n",
              "      <th>Pclass</th>\n",
              "      <th>Sex</th>\n",
              "      <th>Age</th>\n",
              "      <th>SibSp</th>\n",
              "      <th>Parch</th>\n",
              "      <th>Fare</th>\n",
              "      <th>Cabin</th>\n",
              "      <th>Embarked</th>\n",
              "    </tr>\n",
              "  </thead>\n",
              "  <tbody>\n",
              "    <tr>\n",
              "      <th>0</th>\n",
              "      <td>3</td>\n",
              "      <td>0</td>\n",
              "      <td>34.5</td>\n",
              "      <td>0</td>\n",
              "      <td>0</td>\n",
              "      <td>7.8292</td>\n",
              "      <td>NaN</td>\n",
              "      <td>Q</td>\n",
              "    </tr>\n",
              "    <tr>\n",
              "      <th>1</th>\n",
              "      <td>3</td>\n",
              "      <td>1</td>\n",
              "      <td>47.0</td>\n",
              "      <td>1</td>\n",
              "      <td>0</td>\n",
              "      <td>7.0000</td>\n",
              "      <td>NaN</td>\n",
              "      <td>S</td>\n",
              "    </tr>\n",
              "    <tr>\n",
              "      <th>2</th>\n",
              "      <td>2</td>\n",
              "      <td>0</td>\n",
              "      <td>62.0</td>\n",
              "      <td>0</td>\n",
              "      <td>0</td>\n",
              "      <td>9.6875</td>\n",
              "      <td>NaN</td>\n",
              "      <td>Q</td>\n",
              "    </tr>\n",
              "    <tr>\n",
              "      <th>3</th>\n",
              "      <td>3</td>\n",
              "      <td>0</td>\n",
              "      <td>27.0</td>\n",
              "      <td>0</td>\n",
              "      <td>0</td>\n",
              "      <td>8.6625</td>\n",
              "      <td>NaN</td>\n",
              "      <td>S</td>\n",
              "    </tr>\n",
              "    <tr>\n",
              "      <th>4</th>\n",
              "      <td>3</td>\n",
              "      <td>1</td>\n",
              "      <td>22.0</td>\n",
              "      <td>1</td>\n",
              "      <td>1</td>\n",
              "      <td>12.2875</td>\n",
              "      <td>NaN</td>\n",
              "      <td>S</td>\n",
              "    </tr>\n",
              "  </tbody>\n",
              "</table>\n",
              "</div>"
            ],
            "text/plain": [
              "   Pclass  Sex   Age  SibSp  Parch     Fare Cabin Embarked\n",
              "0       3    0  34.5      0      0   7.8292   NaN        Q\n",
              "1       3    1  47.0      1      0   7.0000   NaN        S\n",
              "2       2    0  62.0      0      0   9.6875   NaN        Q\n",
              "3       3    0  27.0      0      0   8.6625   NaN        S\n",
              "4       3    1  22.0      1      1  12.2875   NaN        S"
            ]
          },
          "metadata": {
            "tags": []
          },
          "execution_count": 381
        }
      ]
    },
    {
      "cell_type": "code",
      "metadata": {
        "id": "DwrzFwUBmrwj",
        "colab_type": "code",
        "colab": {}
      },
      "source": [
        "cabin_dummies= pd.get_dummies(df['Cabin'],drop_first=True)"
      ],
      "execution_count": 0,
      "outputs": []
    },
    {
      "cell_type": "code",
      "metadata": {
        "id": "cFnv1DVynDJE",
        "colab_type": "code",
        "outputId": "93ab2141-4c8f-47e6-e10a-20dac2a4bf24",
        "colab": {
          "base_uri": "https://localhost:8080/",
          "height": 72
        }
      },
      "source": [
        "df=pd.concat([df.drop('Cabin',axis=1),cabin_dummies],axis=1)\n",
        "df.columns"
      ],
      "execution_count": 0,
      "outputs": [
        {
          "output_type": "execute_result",
          "data": {
            "text/plain": [
              "Index(['Pclass', 'Sex', 'Age', 'SibSp', 'Parch', 'Fare', 'Embarked', 'B', 'C',\n",
              "       'D', 'E', 'F', 'G', 'T'],\n",
              "      dtype='object')"
            ]
          },
          "metadata": {
            "tags": []
          },
          "execution_count": 383
        }
      ]
    },
    {
      "cell_type": "code",
      "metadata": {
        "id": "POClaB-3nJyU",
        "colab_type": "code",
        "outputId": "cd5201a9-aaa3-4592-d164-f963bfdad8a0",
        "colab": {
          "base_uri": "https://localhost:8080/",
          "height": 198
        }
      },
      "source": [
        "df.head()"
      ],
      "execution_count": 0,
      "outputs": [
        {
          "output_type": "execute_result",
          "data": {
            "text/html": [
              "<div>\n",
              "<style scoped>\n",
              "    .dataframe tbody tr th:only-of-type {\n",
              "        vertical-align: middle;\n",
              "    }\n",
              "\n",
              "    .dataframe tbody tr th {\n",
              "        vertical-align: top;\n",
              "    }\n",
              "\n",
              "    .dataframe thead th {\n",
              "        text-align: right;\n",
              "    }\n",
              "</style>\n",
              "<table border=\"1\" class=\"dataframe\">\n",
              "  <thead>\n",
              "    <tr style=\"text-align: right;\">\n",
              "      <th></th>\n",
              "      <th>Pclass</th>\n",
              "      <th>Sex</th>\n",
              "      <th>Age</th>\n",
              "      <th>SibSp</th>\n",
              "      <th>Parch</th>\n",
              "      <th>Fare</th>\n",
              "      <th>Embarked</th>\n",
              "      <th>Survived</th>\n",
              "      <th>B</th>\n",
              "      <th>C</th>\n",
              "      <th>D</th>\n",
              "      <th>E</th>\n",
              "      <th>F</th>\n",
              "      <th>G</th>\n",
              "      <th>T</th>\n",
              "    </tr>\n",
              "  </thead>\n",
              "  <tbody>\n",
              "    <tr>\n",
              "      <th>0</th>\n",
              "      <td>3</td>\n",
              "      <td>0</td>\n",
              "      <td>22.0</td>\n",
              "      <td>1</td>\n",
              "      <td>0</td>\n",
              "      <td>7.2500</td>\n",
              "      <td>S</td>\n",
              "      <td>0</td>\n",
              "      <td>0</td>\n",
              "      <td>0</td>\n",
              "      <td>0</td>\n",
              "      <td>0</td>\n",
              "      <td>0</td>\n",
              "      <td>0</td>\n",
              "      <td>0</td>\n",
              "    </tr>\n",
              "    <tr>\n",
              "      <th>1</th>\n",
              "      <td>1</td>\n",
              "      <td>1</td>\n",
              "      <td>38.0</td>\n",
              "      <td>1</td>\n",
              "      <td>0</td>\n",
              "      <td>71.2833</td>\n",
              "      <td>C</td>\n",
              "      <td>1</td>\n",
              "      <td>0</td>\n",
              "      <td>1</td>\n",
              "      <td>0</td>\n",
              "      <td>0</td>\n",
              "      <td>0</td>\n",
              "      <td>0</td>\n",
              "      <td>0</td>\n",
              "    </tr>\n",
              "    <tr>\n",
              "      <th>2</th>\n",
              "      <td>3</td>\n",
              "      <td>1</td>\n",
              "      <td>26.0</td>\n",
              "      <td>0</td>\n",
              "      <td>0</td>\n",
              "      <td>7.9250</td>\n",
              "      <td>S</td>\n",
              "      <td>1</td>\n",
              "      <td>0</td>\n",
              "      <td>0</td>\n",
              "      <td>0</td>\n",
              "      <td>0</td>\n",
              "      <td>0</td>\n",
              "      <td>0</td>\n",
              "      <td>0</td>\n",
              "    </tr>\n",
              "    <tr>\n",
              "      <th>3</th>\n",
              "      <td>1</td>\n",
              "      <td>1</td>\n",
              "      <td>35.0</td>\n",
              "      <td>1</td>\n",
              "      <td>0</td>\n",
              "      <td>53.1000</td>\n",
              "      <td>S</td>\n",
              "      <td>1</td>\n",
              "      <td>0</td>\n",
              "      <td>1</td>\n",
              "      <td>0</td>\n",
              "      <td>0</td>\n",
              "      <td>0</td>\n",
              "      <td>0</td>\n",
              "      <td>0</td>\n",
              "    </tr>\n",
              "    <tr>\n",
              "      <th>4</th>\n",
              "      <td>3</td>\n",
              "      <td>0</td>\n",
              "      <td>35.0</td>\n",
              "      <td>0</td>\n",
              "      <td>0</td>\n",
              "      <td>8.0500</td>\n",
              "      <td>S</td>\n",
              "      <td>0</td>\n",
              "      <td>0</td>\n",
              "      <td>0</td>\n",
              "      <td>0</td>\n",
              "      <td>0</td>\n",
              "      <td>0</td>\n",
              "      <td>0</td>\n",
              "      <td>0</td>\n",
              "    </tr>\n",
              "  </tbody>\n",
              "</table>\n",
              "</div>"
            ],
            "text/plain": [
              "   Pclass  Sex   Age  SibSp  Parch     Fare Embarked  ...  B  C  D  E  F  G  T\n",
              "0       3    0  22.0      1      0   7.2500        S  ...  0  0  0  0  0  0  0\n",
              "1       1    1  38.0      1      0  71.2833        C  ...  0  1  0  0  0  0  0\n",
              "2       3    1  26.0      0      0   7.9250        S  ...  0  0  0  0  0  0  0\n",
              "3       1    1  35.0      1      0  53.1000        S  ...  0  1  0  0  0  0  0\n",
              "4       3    0  35.0      0      0   8.0500        S  ...  0  0  0  0  0  0  0\n",
              "\n",
              "[5 rows x 15 columns]"
            ]
          },
          "metadata": {
            "tags": []
          },
          "execution_count": 145
        }
      ]
    },
    {
      "cell_type": "code",
      "metadata": {
        "id": "gb5tVNXJnSL1",
        "colab_type": "code",
        "outputId": "5b0dea60-feb5-458a-b31b-99075fcbd6b5",
        "colab": {
          "base_uri": "https://localhost:8080/",
          "height": 198
        }
      },
      "source": [
        "df=df.drop('Embarked',axis=1)\n",
        "df.head()"
      ],
      "execution_count": 0,
      "outputs": [
        {
          "output_type": "execute_result",
          "data": {
            "text/html": [
              "<div>\n",
              "<style scoped>\n",
              "    .dataframe tbody tr th:only-of-type {\n",
              "        vertical-align: middle;\n",
              "    }\n",
              "\n",
              "    .dataframe tbody tr th {\n",
              "        vertical-align: top;\n",
              "    }\n",
              "\n",
              "    .dataframe thead th {\n",
              "        text-align: right;\n",
              "    }\n",
              "</style>\n",
              "<table border=\"1\" class=\"dataframe\">\n",
              "  <thead>\n",
              "    <tr style=\"text-align: right;\">\n",
              "      <th></th>\n",
              "      <th>Pclass</th>\n",
              "      <th>Sex</th>\n",
              "      <th>Age</th>\n",
              "      <th>SibSp</th>\n",
              "      <th>Parch</th>\n",
              "      <th>Fare</th>\n",
              "      <th>B</th>\n",
              "      <th>C</th>\n",
              "      <th>D</th>\n",
              "      <th>E</th>\n",
              "      <th>F</th>\n",
              "      <th>G</th>\n",
              "      <th>T</th>\n",
              "    </tr>\n",
              "  </thead>\n",
              "  <tbody>\n",
              "    <tr>\n",
              "      <th>0</th>\n",
              "      <td>3</td>\n",
              "      <td>0</td>\n",
              "      <td>34.5</td>\n",
              "      <td>0</td>\n",
              "      <td>0</td>\n",
              "      <td>7.8292</td>\n",
              "      <td>0</td>\n",
              "      <td>0</td>\n",
              "      <td>0</td>\n",
              "      <td>0</td>\n",
              "      <td>0</td>\n",
              "      <td>0</td>\n",
              "      <td>0</td>\n",
              "    </tr>\n",
              "    <tr>\n",
              "      <th>1</th>\n",
              "      <td>3</td>\n",
              "      <td>1</td>\n",
              "      <td>47.0</td>\n",
              "      <td>1</td>\n",
              "      <td>0</td>\n",
              "      <td>7.0000</td>\n",
              "      <td>0</td>\n",
              "      <td>0</td>\n",
              "      <td>0</td>\n",
              "      <td>0</td>\n",
              "      <td>0</td>\n",
              "      <td>0</td>\n",
              "      <td>0</td>\n",
              "    </tr>\n",
              "    <tr>\n",
              "      <th>2</th>\n",
              "      <td>2</td>\n",
              "      <td>0</td>\n",
              "      <td>62.0</td>\n",
              "      <td>0</td>\n",
              "      <td>0</td>\n",
              "      <td>9.6875</td>\n",
              "      <td>0</td>\n",
              "      <td>0</td>\n",
              "      <td>0</td>\n",
              "      <td>0</td>\n",
              "      <td>0</td>\n",
              "      <td>0</td>\n",
              "      <td>0</td>\n",
              "    </tr>\n",
              "    <tr>\n",
              "      <th>3</th>\n",
              "      <td>3</td>\n",
              "      <td>0</td>\n",
              "      <td>27.0</td>\n",
              "      <td>0</td>\n",
              "      <td>0</td>\n",
              "      <td>8.6625</td>\n",
              "      <td>0</td>\n",
              "      <td>0</td>\n",
              "      <td>0</td>\n",
              "      <td>0</td>\n",
              "      <td>0</td>\n",
              "      <td>0</td>\n",
              "      <td>0</td>\n",
              "    </tr>\n",
              "    <tr>\n",
              "      <th>4</th>\n",
              "      <td>3</td>\n",
              "      <td>1</td>\n",
              "      <td>22.0</td>\n",
              "      <td>1</td>\n",
              "      <td>1</td>\n",
              "      <td>12.2875</td>\n",
              "      <td>0</td>\n",
              "      <td>0</td>\n",
              "      <td>0</td>\n",
              "      <td>0</td>\n",
              "      <td>0</td>\n",
              "      <td>0</td>\n",
              "      <td>0</td>\n",
              "    </tr>\n",
              "  </tbody>\n",
              "</table>\n",
              "</div>"
            ],
            "text/plain": [
              "   Pclass  Sex   Age  SibSp  Parch     Fare  B  C  D  E  F  G  T\n",
              "0       3    0  34.5      0      0   7.8292  0  0  0  0  0  0  0\n",
              "1       3    1  47.0      1      0   7.0000  0  0  0  0  0  0  0\n",
              "2       2    0  62.0      0      0   9.6875  0  0  0  0  0  0  0\n",
              "3       3    0  27.0      0      0   8.6625  0  0  0  0  0  0  0\n",
              "4       3    1  22.0      1      1  12.2875  0  0  0  0  0  0  0"
            ]
          },
          "metadata": {
            "tags": []
          },
          "execution_count": 384
        }
      ]
    },
    {
      "cell_type": "code",
      "metadata": {
        "id": "s97kda71ZGrJ",
        "colab_type": "code",
        "outputId": "14cddb05-6c8d-4cc2-f336-d7596cdaf6fd",
        "colab": {
          "base_uri": "https://localhost:8080/",
          "height": 35
        }
      },
      "source": [
        "X_train.shape"
      ],
      "execution_count": 0,
      "outputs": [
        {
          "output_type": "execute_result",
          "data": {
            "text/plain": [
              "(757, 13)"
            ]
          },
          "metadata": {
            "tags": []
          },
          "execution_count": 147
        }
      ]
    },
    {
      "cell_type": "code",
      "metadata": {
        "id": "3HXffmSxscEC",
        "colab_type": "code",
        "outputId": "d94d98bc-5344-4c41-f588-a3616ceb3098",
        "colab": {
          "base_uri": "https://localhost:8080/",
          "height": 507
        }
      },
      "source": [
        "mask=np.zeros_like(df.corr())\n",
        "triangle_indices=np.triu_indices_from(mask)\n",
        "mask[triangle_indices]=True\n",
        "mask\n",
        "\n",
        "plt.figure(figsize=(16,10))\n",
        "sns.heatmap(df.corr(), mask=mask, cmap=\"coolwarm\",annot=True, annot_kws={'size':14})\n",
        "plt.xticks(fontsize=14)\n",
        "plt.yticks(fontsize=12)\n",
        "plt.show()"
      ],
      "execution_count": 0,
      "outputs": [
        {
          "output_type": "display_data",
          "data": {
            "image/png": "[encoded data removed]",
            "text/plain": [
              "<Figure size 1152x720 with 2 Axes>"
            ]
          },
          "metadata": {
            "tags": [],
            "needs_background": "light"
          }
        }
      ]
    },
    {
      "cell_type": "code",
      "metadata": {
        "id": "k5D8zI8YtBCr",
        "colab_type": "code",
        "colab": {}
      },
      "source": [
        "df1=df"
      ],
      "execution_count": 0,
      "outputs": []
    },
    {
      "cell_type": "markdown",
      "metadata": {
        "id": "TJYwChartjj2",
        "colab_type": "text"
      },
      "source": [
        "# Split Data"
      ]
    },
    {
      "cell_type": "code",
      "metadata": {
        "id": "-GRTivK8lrDM",
        "colab_type": "code",
        "colab": {}
      },
      "source": [
        "X=df.drop('Survived',axis=1).values\n",
        "y=df['Survived'].values"
      ],
      "execution_count": 0,
      "outputs": []
    },
    {
      "cell_type": "code",
      "metadata": {
        "id": "2d8WpTg2kdCQ",
        "colab_type": "code",
        "colab": {}
      },
      "source": [
        "X_train,X_test,y_train,y_test=train_test_split(X,y,test_size=0.15,random_state=0)"
      ],
      "execution_count": 0,
      "outputs": []
    },
    {
      "cell_type": "markdown",
      "metadata": {
        "id": "qGv2BGVNt1IL",
        "colab_type": "text"
      },
      "source": [
        "# Scale Data"
      ]
    },
    {
      "cell_type": "code",
      "metadata": {
        "id": "znsXe36sk63Q",
        "colab_type": "code",
        "colab": {}
      },
      "source": [
        "scaler=MinMaxScaler()\n",
        "X_train=scaler.fit_transform(X_train)\n",
        "X_test=scaler.transform(X_test)"
      ],
      "execution_count": 0,
      "outputs": []
    },
    {
      "cell_type": "code",
      "metadata": {
        "id": "t3i0SLbGt9kk",
        "colab_type": "code",
        "outputId": "356a4209-0b3c-411d-a2a1-de728e602ff7",
        "colab": {
          "base_uri": "https://localhost:8080/",
          "height": 145
        }
      },
      "source": [
        "y_test"
      ],
      "execution_count": 0,
      "outputs": [
        {
          "output_type": "execute_result",
          "data": {
            "text/plain": [
              "array([0, 0, 0, 1, 1, 1, 1, 1, 1, 1, 0, 1, 0, 1, 1, 0, 0, 0, 0, 1, 0, 1,\n",
              "       0, 0, 0, 1, 0, 1, 1, 0, 0, 1, 0, 1, 0, 1, 0, 0, 0, 0, 1, 0, 0, 0,\n",
              "       1, 0, 0, 1, 0, 0, 1, 1, 1, 0, 1, 0, 0, 0, 0, 1, 0, 0, 1, 0, 1, 0,\n",
              "       1, 0, 1, 1, 1, 1, 0, 0, 0, 1, 0, 0, 0, 0, 0, 1, 0, 0, 0, 1, 1, 1,\n",
              "       1, 0, 0, 0, 1, 1, 0, 0, 1, 0, 0, 1, 0, 0, 0, 0, 0, 1, 1, 0, 0, 1,\n",
              "       0, 1, 1, 0, 1, 1, 1, 1, 0, 1, 1, 0, 0, 0, 0, 0, 0, 1, 0, 0, 0, 0,\n",
              "       0, 0])"
            ]
          },
          "metadata": {
            "tags": []
          },
          "execution_count": 292
        }
      ]
    },
    {
      "cell_type": "markdown",
      "metadata": {
        "id": "iHqhWHLQuaAL",
        "colab_type": "text"
      },
      "source": [
        "# Create Model"
      ]
    },
    {
      "cell_type": "code",
      "metadata": {
        "id": "0Z2hJUnrt-k_",
        "colab_type": "code",
        "colab": {}
      },
      "source": [
        "logdir = os.path.join(\"logs\", datetime.datetime.now().strftime(\"%Y%m%d-%H%M%S\"))\n",
        "tensorboard_callback = tf.keras.callbacks.TensorBoard(logdir, histogram_freq=1,write_graph=True,write_images=True,profile_batch=2, embeddings_freq=1)"
      ],
      "execution_count": 0,
      "outputs": []
    },
    {
      "cell_type": "code",
      "metadata": {
        "id": "85uXTWxyudEM",
        "colab_type": "code",
        "colab": {}
      },
      "source": [
        "#def create_network(optimizer='adam'):\n",
        "\n",
        "model = Sequential()\n",
        "\n",
        "# input layer\n",
        "model.add(Dense(13,  activation='relu',input_shape=[13,]))\n",
        "#model.add(Dropout(0.2))\n",
        "\n",
        "# hidden layer\n",
        "model.add(Dense(7, activation='relu'))\n",
        "#model.add(Dropout(0.2))\n",
        "\n",
        "# hidden layer\n",
        "model.add(Dense(7, activation='relu'))\n",
        "#model.add(Dropout(0.2))\n",
        "\n",
        "# hidden layer\n",
        "#model.add(Dense(32, activation='relu'))\n",
        "#model.add(Dropout(0.2))\n",
        "\n",
        "# output layer\n",
        "model.add(Dense(units=1, activation='sigmoid'))\n",
        "\n",
        "# Compile model\n",
        "model.compile(optimizer='adam',loss='binary_crossentropy',metrics=['accuracy'])\n",
        "\n",
        "#return network"
      ],
      "execution_count": 0,
      "outputs": []
    },
    {
      "cell_type": "code",
      "metadata": {
        "id": "R4MH4IZCb_7M",
        "colab_type": "code",
        "colab": {}
      },
      "source": [
        "early_stop=EarlyStopping(monitor='val_loss',mode='min',verbose=1,patience=150)"
      ],
      "execution_count": 0,
      "outputs": []
    },
    {
      "cell_type": "code",
      "metadata": {
        "id": "4GQUCIVXYO7l",
        "colab_type": "code",
        "outputId": "3d9d76b4-69d5-4b2f-9b9b-b276d986ecf6",
        "colab": {
          "base_uri": "https://localhost:8080/",
          "height": 1000
        }
      },
      "source": [
        "model.fit(x=X_train, \n",
        "          y=y_train, \n",
        "          epochs=500,\n",
        "          validation_data=(X_test, y_test), \n",
        "         callbacks=[early_stop,tensorboard_callback])"
      ],
      "execution_count": 0,
      "outputs": [
        {
          "output_type": "stream",
          "text": [
            "Epoch 1/500\n",
            "24/24 [==============================] - 1s 22ms/step - loss: 0.6787 - accuracy: 0.7239 - val_loss: 0.6629 - val_accuracy: 0.7463\n",
            "Epoch 2/500\n",
            "24/24 [==============================] - 0s 4ms/step - loss: 0.6582 - accuracy: 0.7186 - val_loss: 0.6354 - val_accuracy: 0.7388\n",
            "Epoch 3/500\n",
            "24/24 [==============================] - 0s 4ms/step - loss: 0.6323 - accuracy: 0.7094 - val_loss: 0.6004 - val_accuracy: 0.7463\n",
            "Epoch 4/500\n",
            "24/24 [==============================] - 0s 4ms/step - loss: 0.5971 - accuracy: 0.7503 - val_loss: 0.5630 - val_accuracy: 0.7910\n",
            "Epoch 5/500\n",
            "24/24 [==============================] - 0s 4ms/step - loss: 0.5602 - accuracy: 0.7688 - val_loss: 0.5238 - val_accuracy: 0.7910\n",
            "Epoch 6/500\n",
            "24/24 [==============================] - 0s 4ms/step - loss: 0.5191 - accuracy: 0.7807 - val_loss: 0.4918 - val_accuracy: 0.7985\n",
            "Epoch 7/500\n",
            "24/24 [==============================] - 0s 5ms/step - loss: 0.4891 - accuracy: 0.7794 - val_loss: 0.4711 - val_accuracy: 0.7761\n",
            "Epoch 8/500\n",
            "24/24 [==============================] - 0s 4ms/step - loss: 0.4734 - accuracy: 0.7926 - val_loss: 0.4568 - val_accuracy: 0.7836\n",
            "Epoch 9/500\n",
            "24/24 [==============================] - 0s 4ms/step - loss: 0.4663 - accuracy: 0.7886 - val_loss: 0.4522 - val_accuracy: 0.7836\n",
            "Epoch 10/500\n",
            "24/24 [==============================] - 0s 4ms/step - loss: 0.4614 - accuracy: 0.7952 - val_loss: 0.4518 - val_accuracy: 0.7761\n",
            "Epoch 11/500\n",
            "24/24 [==============================] - 0s 4ms/step - loss: 0.4554 - accuracy: 0.7992 - val_loss: 0.4461 - val_accuracy: 0.7761\n",
            "Epoch 12/500\n",
            "24/24 [==============================] - 0s 4ms/step - loss: 0.4561 - accuracy: 0.7952 - val_loss: 0.4509 - val_accuracy: 0.7761\n",
            "Epoch 13/500\n",
            "24/24 [==============================] - 0s 4ms/step - loss: 0.4528 - accuracy: 0.8032 - val_loss: 0.4431 - val_accuracy: 0.7761\n",
            "Epoch 14/500\n",
            "24/24 [==============================] - 0s 4ms/step - loss: 0.4474 - accuracy: 0.8018 - val_loss: 0.4423 - val_accuracy: 0.7836\n",
            "Epoch 15/500\n",
            "24/24 [==============================] - 0s 4ms/step - loss: 0.4458 - accuracy: 0.8018 - val_loss: 0.4401 - val_accuracy: 0.7761\n",
            "Epoch 16/500\n",
            "24/24 [==============================] - 0s 4ms/step - loss: 0.4442 - accuracy: 0.8005 - val_loss: 0.4387 - val_accuracy: 0.7836\n",
            "Epoch 17/500\n",
            "24/24 [==============================] - 0s 4ms/step - loss: 0.4416 - accuracy: 0.8018 - val_loss: 0.4383 - val_accuracy: 0.7836\n",
            "Epoch 18/500\n",
            "24/24 [==============================] - 0s 4ms/step - loss: 0.4392 - accuracy: 0.8032 - val_loss: 0.4348 - val_accuracy: 0.7836\n",
            "Epoch 19/500\n",
            "24/24 [==============================] - 0s 4ms/step - loss: 0.4416 - accuracy: 0.8045 - val_loss: 0.4343 - val_accuracy: 0.7836\n",
            "Epoch 20/500\n",
            "24/24 [==============================] - 0s 4ms/step - loss: 0.4399 - accuracy: 0.8045 - val_loss: 0.4340 - val_accuracy: 0.7836\n",
            "Epoch 21/500\n",
            "24/24 [==============================] - 0s 4ms/step - loss: 0.4357 - accuracy: 0.8098 - val_loss: 0.4292 - val_accuracy: 0.7985\n",
            "Epoch 22/500\n",
            "24/24 [==============================] - 0s 4ms/step - loss: 0.4307 - accuracy: 0.8124 - val_loss: 0.4344 - val_accuracy: 0.7836\n",
            "Epoch 23/500\n",
            "24/24 [==============================] - 0s 4ms/step - loss: 0.4298 - accuracy: 0.8111 - val_loss: 0.4340 - val_accuracy: 0.7836\n",
            "Epoch 24/500\n",
            "24/24 [==============================] - 0s 4ms/step - loss: 0.4346 - accuracy: 0.8098 - val_loss: 0.4260 - val_accuracy: 0.7910\n",
            "Epoch 25/500\n",
            "24/24 [==============================] - 0s 4ms/step - loss: 0.4291 - accuracy: 0.8164 - val_loss: 0.4273 - val_accuracy: 0.7910\n",
            "Epoch 26/500\n",
            "24/24 [==============================] - 0s 4ms/step - loss: 0.4264 - accuracy: 0.8137 - val_loss: 0.4282 - val_accuracy: 0.7910\n",
            "Epoch 27/500\n",
            "24/24 [==============================] - 0s 4ms/step - loss: 0.4275 - accuracy: 0.8124 - val_loss: 0.4227 - val_accuracy: 0.7910\n",
            "Epoch 28/500\n",
            "24/24 [==============================] - 0s 4ms/step - loss: 0.4231 - accuracy: 0.8217 - val_loss: 0.4241 - val_accuracy: 0.7910\n",
            "Epoch 29/500\n",
            "24/24 [==============================] - 0s 4ms/step - loss: 0.4247 - accuracy: 0.8164 - val_loss: 0.4222 - val_accuracy: 0.7910\n",
            "Epoch 30/500\n",
            "24/24 [==============================] - 0s 4ms/step - loss: 0.4211 - accuracy: 0.8137 - val_loss: 0.4287 - val_accuracy: 0.7985\n",
            "Epoch 31/500\n",
            "24/24 [==============================] - 0s 4ms/step - loss: 0.4212 - accuracy: 0.8164 - val_loss: 0.4189 - val_accuracy: 0.7761\n",
            "Epoch 32/500\n",
            "24/24 [==============================] - 0s 4ms/step - loss: 0.4220 - accuracy: 0.8243 - val_loss: 0.4255 - val_accuracy: 0.7985\n",
            "Epoch 33/500\n",
            "24/24 [==============================] - 0s 4ms/step - loss: 0.4207 - accuracy: 0.8177 - val_loss: 0.4289 - val_accuracy: 0.7910\n",
            "Epoch 34/500\n",
            "24/24 [==============================] - 0s 4ms/step - loss: 0.4156 - accuracy: 0.8269 - val_loss: 0.4192 - val_accuracy: 0.7985\n",
            "Epoch 35/500\n",
            "24/24 [==============================] - 0s 4ms/step - loss: 0.4189 - accuracy: 0.8283 - val_loss: 0.4233 - val_accuracy: 0.7985\n",
            "Epoch 36/500\n",
            "24/24 [==============================] - 0s 4ms/step - loss: 0.4187 - accuracy: 0.8164 - val_loss: 0.4238 - val_accuracy: 0.7985\n",
            "Epoch 37/500\n",
            "24/24 [==============================] - 0s 4ms/step - loss: 0.4160 - accuracy: 0.8256 - val_loss: 0.4167 - val_accuracy: 0.7761\n",
            "Epoch 38/500\n",
            "24/24 [==============================] - 0s 4ms/step - loss: 0.4145 - accuracy: 0.8269 - val_loss: 0.4238 - val_accuracy: 0.7985\n",
            "Epoch 39/500\n",
            "24/24 [==============================] - 0s 4ms/step - loss: 0.4117 - accuracy: 0.8256 - val_loss: 0.4171 - val_accuracy: 0.7836\n",
            "Epoch 40/500\n",
            "24/24 [==============================] - 0s 4ms/step - loss: 0.4150 - accuracy: 0.8322 - val_loss: 0.4181 - val_accuracy: 0.7836\n",
            "Epoch 41/500\n",
            "24/24 [==============================] - 0s 4ms/step - loss: 0.4118 - accuracy: 0.8269 - val_loss: 0.4207 - val_accuracy: 0.7910\n",
            "Epoch 42/500\n",
            "24/24 [==============================] - 0s 4ms/step - loss: 0.4104 - accuracy: 0.8349 - val_loss: 0.4234 - val_accuracy: 0.8060\n",
            "Epoch 43/500\n",
            "24/24 [==============================] - 0s 4ms/step - loss: 0.4100 - accuracy: 0.8296 - val_loss: 0.4222 - val_accuracy: 0.8060\n",
            "Epoch 44/500\n",
            "24/24 [==============================] - 0s 4ms/step - loss: 0.4101 - accuracy: 0.8269 - val_loss: 0.4215 - val_accuracy: 0.7985\n",
            "Epoch 45/500\n",
            "24/24 [==============================] - 0s 4ms/step - loss: 0.4078 - accuracy: 0.8269 - val_loss: 0.4204 - val_accuracy: 0.7910\n",
            "Epoch 46/500\n",
            "24/24 [==============================] - 0s 4ms/step - loss: 0.4066 - accuracy: 0.8349 - val_loss: 0.4228 - val_accuracy: 0.7985\n",
            "Epoch 47/500\n",
            "24/24 [==============================] - 0s 4ms/step - loss: 0.4091 - accuracy: 0.8296 - val_loss: 0.4218 - val_accuracy: 0.7985\n",
            "Epoch 48/500\n",
            "24/24 [==============================] - 0s 4ms/step - loss: 0.4076 - accuracy: 0.8309 - val_loss: 0.4295 - val_accuracy: 0.7985\n",
            "Epoch 49/500\n",
            "24/24 [==============================] - 0s 4ms/step - loss: 0.4104 - accuracy: 0.8336 - val_loss: 0.4175 - val_accuracy: 0.7836\n",
            "Epoch 50/500\n",
            "24/24 [==============================] - 0s 4ms/step - loss: 0.4077 - accuracy: 0.8309 - val_loss: 0.4178 - val_accuracy: 0.7761\n",
            "Epoch 51/500\n",
            "24/24 [==============================] - 0s 4ms/step - loss: 0.4080 - accuracy: 0.8349 - val_loss: 0.4234 - val_accuracy: 0.7985\n",
            "Epoch 52/500\n",
            "24/24 [==============================] - 0s 4ms/step - loss: 0.4043 - accuracy: 0.8322 - val_loss: 0.4183 - val_accuracy: 0.7910\n",
            "Epoch 53/500\n",
            "24/24 [==============================] - 0s 4ms/step - loss: 0.4056 - accuracy: 0.8336 - val_loss: 0.4178 - val_accuracy: 0.7761\n",
            "Epoch 54/500\n",
            "24/24 [==============================] - 0s 4ms/step - loss: 0.4061 - accuracy: 0.8362 - val_loss: 0.4214 - val_accuracy: 0.7910\n",
            "Epoch 55/500\n",
            "24/24 [==============================] - 0s 4ms/step - loss: 0.4026 - accuracy: 0.8336 - val_loss: 0.4231 - val_accuracy: 0.7985\n",
            "Epoch 56/500\n",
            "24/24 [==============================] - 0s 4ms/step - loss: 0.4005 - accuracy: 0.8375 - val_loss: 0.4208 - val_accuracy: 0.7910\n",
            "Epoch 57/500\n",
            "24/24 [==============================] - 0s 4ms/step - loss: 0.4021 - accuracy: 0.8362 - val_loss: 0.4227 - val_accuracy: 0.7985\n",
            "Epoch 58/500\n",
            "24/24 [==============================] - 0s 4ms/step - loss: 0.4042 - accuracy: 0.8415 - val_loss: 0.4231 - val_accuracy: 0.7985\n",
            "Epoch 59/500\n",
            "24/24 [==============================] - 0s 4ms/step - loss: 0.4026 - accuracy: 0.8388 - val_loss: 0.4284 - val_accuracy: 0.8060\n",
            "Epoch 60/500\n",
            "24/24 [==============================] - 0s 4ms/step - loss: 0.4015 - accuracy: 0.8388 - val_loss: 0.4215 - val_accuracy: 0.7910\n",
            "Epoch 61/500\n",
            "24/24 [==============================] - 0s 4ms/step - loss: 0.3992 - accuracy: 0.8402 - val_loss: 0.4245 - val_accuracy: 0.7985\n",
            "Epoch 62/500\n",
            "24/24 [==============================] - 0s 4ms/step - loss: 0.3993 - accuracy: 0.8375 - val_loss: 0.4253 - val_accuracy: 0.8060\n",
            "Epoch 63/500\n",
            "24/24 [==============================] - 0s 4ms/step - loss: 0.3989 - accuracy: 0.8388 - val_loss: 0.4219 - val_accuracy: 0.7910\n",
            "Epoch 64/500\n",
            "24/24 [==============================] - 0s 4ms/step - loss: 0.3989 - accuracy: 0.8402 - val_loss: 0.4276 - val_accuracy: 0.8060\n",
            "Epoch 65/500\n",
            "24/24 [==============================] - 0s 4ms/step - loss: 0.4033 - accuracy: 0.8349 - val_loss: 0.4204 - val_accuracy: 0.7836\n",
            "Epoch 66/500\n",
            "24/24 [==============================] - 0s 4ms/step - loss: 0.4014 - accuracy: 0.8388 - val_loss: 0.4221 - val_accuracy: 0.7910\n",
            "Epoch 67/500\n",
            "24/24 [==============================] - 0s 4ms/step - loss: 0.3998 - accuracy: 0.8388 - val_loss: 0.4243 - val_accuracy: 0.7910\n",
            "Epoch 68/500\n",
            "24/24 [==============================] - 0s 4ms/step - loss: 0.3978 - accuracy: 0.8388 - val_loss: 0.4291 - val_accuracy: 0.8134\n",
            "Epoch 69/500\n",
            "24/24 [==============================] - 0s 4ms/step - loss: 0.3960 - accuracy: 0.8415 - val_loss: 0.4215 - val_accuracy: 0.8060\n",
            "Epoch 70/500\n",
            "24/24 [==============================] - 0s 4ms/step - loss: 0.3984 - accuracy: 0.8388 - val_loss: 0.4255 - val_accuracy: 0.7985\n",
            "Epoch 71/500\n",
            "24/24 [==============================] - 0s 4ms/step - loss: 0.3950 - accuracy: 0.8402 - val_loss: 0.4243 - val_accuracy: 0.7985\n",
            "Epoch 72/500\n",
            "24/24 [==============================] - 0s 4ms/step - loss: 0.3965 - accuracy: 0.8402 - val_loss: 0.4261 - val_accuracy: 0.7985\n",
            "Epoch 73/500\n",
            "24/24 [==============================] - 0s 4ms/step - loss: 0.3988 - accuracy: 0.8375 - val_loss: 0.4218 - val_accuracy: 0.7910\n",
            "Epoch 74/500\n",
            "24/24 [==============================] - 0s 4ms/step - loss: 0.3978 - accuracy: 0.8415 - val_loss: 0.4294 - val_accuracy: 0.8060\n",
            "Epoch 75/500\n",
            "24/24 [==============================] - 0s 4ms/step - loss: 0.3950 - accuracy: 0.8375 - val_loss: 0.4232 - val_accuracy: 0.7985\n",
            "Epoch 76/500\n",
            "24/24 [==============================] - 0s 4ms/step - loss: 0.3946 - accuracy: 0.8428 - val_loss: 0.4265 - val_accuracy: 0.8060\n",
            "Epoch 77/500\n",
            "24/24 [==============================] - 0s 4ms/step - loss: 0.3977 - accuracy: 0.8415 - val_loss: 0.4249 - val_accuracy: 0.7985\n",
            "Epoch 78/500\n",
            "24/24 [==============================] - 0s 4ms/step - loss: 0.3952 - accuracy: 0.8362 - val_loss: 0.4226 - val_accuracy: 0.7910\n",
            "Epoch 79/500\n",
            "24/24 [==============================] - 0s 4ms/step - loss: 0.3983 - accuracy: 0.8441 - val_loss: 0.4252 - val_accuracy: 0.8060\n",
            "Epoch 80/500\n",
            "24/24 [==============================] - 0s 4ms/step - loss: 0.3978 - accuracy: 0.8415 - val_loss: 0.4233 - val_accuracy: 0.7910\n",
            "Epoch 81/500\n",
            "24/24 [==============================] - 0s 4ms/step - loss: 0.3964 - accuracy: 0.8402 - val_loss: 0.4224 - val_accuracy: 0.7910\n",
            "Epoch 82/500\n",
            "24/24 [==============================] - 0s 4ms/step - loss: 0.3936 - accuracy: 0.8441 - val_loss: 0.4221 - val_accuracy: 0.7910\n",
            "Epoch 83/500\n",
            "24/24 [==============================] - 0s 4ms/step - loss: 0.3952 - accuracy: 0.8375 - val_loss: 0.4277 - val_accuracy: 0.7985\n",
            "Epoch 84/500\n",
            "24/24 [==============================] - 0s 4ms/step - loss: 0.3983 - accuracy: 0.8336 - val_loss: 0.4218 - val_accuracy: 0.7836\n",
            "Epoch 85/500\n",
            "24/24 [==============================] - 0s 4ms/step - loss: 0.3952 - accuracy: 0.8362 - val_loss: 0.4276 - val_accuracy: 0.7985\n",
            "Epoch 86/500\n",
            "24/24 [==============================] - 0s 4ms/step - loss: 0.3954 - accuracy: 0.8362 - val_loss: 0.4283 - val_accuracy: 0.7985\n",
            "Epoch 87/500\n",
            "24/24 [==============================] - 0s 4ms/step - loss: 0.3943 - accuracy: 0.8428 - val_loss: 0.4262 - val_accuracy: 0.7985\n",
            "Epoch 88/500\n",
            "24/24 [==============================] - 0s 4ms/step - loss: 0.3939 - accuracy: 0.8481 - val_loss: 0.4245 - val_accuracy: 0.7836\n",
            "Epoch 89/500\n",
            "24/24 [==============================] - 0s 4ms/step - loss: 0.3928 - accuracy: 0.8362 - val_loss: 0.4268 - val_accuracy: 0.7985\n",
            "Epoch 90/500\n",
            "24/24 [==============================] - 0s 4ms/step - loss: 0.3939 - accuracy: 0.8441 - val_loss: 0.4287 - val_accuracy: 0.7985\n",
            "Epoch 91/500\n",
            "24/24 [==============================] - 0s 4ms/step - loss: 0.3902 - accuracy: 0.8388 - val_loss: 0.4230 - val_accuracy: 0.7836\n",
            "Epoch 92/500\n",
            "24/24 [==============================] - 0s 4ms/step - loss: 0.3947 - accuracy: 0.8454 - val_loss: 0.4276 - val_accuracy: 0.7985\n",
            "Epoch 93/500\n",
            "24/24 [==============================] - 0s 4ms/step - loss: 0.3936 - accuracy: 0.8375 - val_loss: 0.4175 - val_accuracy: 0.7910\n",
            "Epoch 94/500\n",
            "24/24 [==============================] - 0s 4ms/step - loss: 0.3905 - accuracy: 0.8388 - val_loss: 0.4296 - val_accuracy: 0.7985\n",
            "Epoch 95/500\n",
            "24/24 [==============================] - 0s 4ms/step - loss: 0.3924 - accuracy: 0.8468 - val_loss: 0.4254 - val_accuracy: 0.7836\n",
            "Epoch 96/500\n",
            "24/24 [==============================] - 0s 4ms/step - loss: 0.3899 - accuracy: 0.8428 - val_loss: 0.4258 - val_accuracy: 0.7836\n",
            "Epoch 97/500\n",
            "24/24 [==============================] - 0s 4ms/step - loss: 0.3908 - accuracy: 0.8402 - val_loss: 0.4231 - val_accuracy: 0.7836\n",
            "Epoch 98/500\n",
            "24/24 [==============================] - 0s 4ms/step - loss: 0.3893 - accuracy: 0.8468 - val_loss: 0.4274 - val_accuracy: 0.7910\n",
            "Epoch 99/500\n",
            "24/24 [==============================] - 0s 4ms/step - loss: 0.3911 - accuracy: 0.8428 - val_loss: 0.4249 - val_accuracy: 0.7836\n",
            "Epoch 100/500\n",
            "24/24 [==============================] - 0s 4ms/step - loss: 0.3904 - accuracy: 0.8468 - val_loss: 0.4287 - val_accuracy: 0.7985\n",
            "Epoch 101/500\n",
            "24/24 [==============================] - 0s 4ms/step - loss: 0.3907 - accuracy: 0.8454 - val_loss: 0.4256 - val_accuracy: 0.7836\n",
            "Epoch 102/500\n",
            "24/24 [==============================] - 0s 4ms/step - loss: 0.3885 - accuracy: 0.8481 - val_loss: 0.4318 - val_accuracy: 0.7985\n",
            "Epoch 103/500\n",
            "24/24 [==============================] - 0s 4ms/step - loss: 0.3905 - accuracy: 0.8428 - val_loss: 0.4220 - val_accuracy: 0.7836\n",
            "Epoch 104/500\n",
            "24/24 [==============================] - 0s 4ms/step - loss: 0.3900 - accuracy: 0.8468 - val_loss: 0.4265 - val_accuracy: 0.7836\n",
            "Epoch 105/500\n",
            "24/24 [==============================] - 0s 4ms/step - loss: 0.3879 - accuracy: 0.8481 - val_loss: 0.4233 - val_accuracy: 0.7836\n",
            "Epoch 106/500\n",
            "24/24 [==============================] - 0s 4ms/step - loss: 0.3922 - accuracy: 0.8388 - val_loss: 0.4246 - val_accuracy: 0.7910\n",
            "Epoch 107/500\n",
            "24/24 [==============================] - 0s 4ms/step - loss: 0.3920 - accuracy: 0.8415 - val_loss: 0.4198 - val_accuracy: 0.7836\n",
            "Epoch 108/500\n",
            "24/24 [==============================] - 0s 4ms/step - loss: 0.3881 - accuracy: 0.8428 - val_loss: 0.4239 - val_accuracy: 0.7910\n",
            "Epoch 109/500\n",
            "24/24 [==============================] - 0s 4ms/step - loss: 0.3872 - accuracy: 0.8454 - val_loss: 0.4259 - val_accuracy: 0.7836\n",
            "Epoch 110/500\n",
            "24/24 [==============================] - 0s 4ms/step - loss: 0.3891 - accuracy: 0.8468 - val_loss: 0.4186 - val_accuracy: 0.7836\n",
            "Epoch 111/500\n",
            "24/24 [==============================] - 0s 4ms/step - loss: 0.3883 - accuracy: 0.8468 - val_loss: 0.4202 - val_accuracy: 0.7836\n",
            "Epoch 112/500\n",
            "24/24 [==============================] - 0s 4ms/step - loss: 0.3865 - accuracy: 0.8454 - val_loss: 0.4264 - val_accuracy: 0.7910\n",
            "Epoch 113/500\n",
            "24/24 [==============================] - 0s 4ms/step - loss: 0.3861 - accuracy: 0.8441 - val_loss: 0.4228 - val_accuracy: 0.7836\n",
            "Epoch 114/500\n",
            "24/24 [==============================] - 0s 4ms/step - loss: 0.3844 - accuracy: 0.8468 - val_loss: 0.4242 - val_accuracy: 0.7836\n",
            "Epoch 115/500\n",
            "24/24 [==============================] - 0s 4ms/step - loss: 0.3854 - accuracy: 0.8494 - val_loss: 0.4244 - val_accuracy: 0.7836\n",
            "Epoch 116/500\n",
            "24/24 [==============================] - 0s 4ms/step - loss: 0.3857 - accuracy: 0.8441 - val_loss: 0.4192 - val_accuracy: 0.7836\n",
            "Epoch 117/500\n",
            "24/24 [==============================] - 0s 4ms/step - loss: 0.3844 - accuracy: 0.8520 - val_loss: 0.4235 - val_accuracy: 0.7836\n",
            "Epoch 118/500\n",
            "24/24 [==============================] - 0s 4ms/step - loss: 0.3840 - accuracy: 0.8468 - val_loss: 0.4196 - val_accuracy: 0.7836\n",
            "Epoch 119/500\n",
            "24/24 [==============================] - 0s 4ms/step - loss: 0.3832 - accuracy: 0.8494 - val_loss: 0.4256 - val_accuracy: 0.7910\n",
            "Epoch 120/500\n",
            "24/24 [==============================] - 0s 4ms/step - loss: 0.3847 - accuracy: 0.8481 - val_loss: 0.4189 - val_accuracy: 0.7836\n",
            "Epoch 121/500\n",
            "24/24 [==============================] - 0s 4ms/step - loss: 0.3848 - accuracy: 0.8481 - val_loss: 0.4257 - val_accuracy: 0.7910\n",
            "Epoch 122/500\n",
            "24/24 [==============================] - 0s 4ms/step - loss: 0.3854 - accuracy: 0.8454 - val_loss: 0.4181 - val_accuracy: 0.7836\n",
            "Epoch 123/500\n",
            "24/24 [==============================] - 0s 4ms/step - loss: 0.3847 - accuracy: 0.8468 - val_loss: 0.4137 - val_accuracy: 0.7985\n",
            "Epoch 124/500\n",
            "24/24 [==============================] - 0s 4ms/step - loss: 0.3816 - accuracy: 0.8468 - val_loss: 0.4166 - val_accuracy: 0.7836\n",
            "Epoch 125/500\n",
            "24/24 [==============================] - 0s 4ms/step - loss: 0.3836 - accuracy: 0.8481 - val_loss: 0.4193 - val_accuracy: 0.7910\n",
            "Epoch 126/500\n",
            "24/24 [==============================] - 0s 4ms/step - loss: 0.3862 - accuracy: 0.8494 - val_loss: 0.4203 - val_accuracy: 0.7910\n",
            "Epoch 127/500\n",
            "24/24 [==============================] - 0s 4ms/step - loss: 0.3881 - accuracy: 0.8428 - val_loss: 0.4209 - val_accuracy: 0.7910\n",
            "Epoch 128/500\n",
            "24/24 [==============================] - 0s 4ms/step - loss: 0.3826 - accuracy: 0.8507 - val_loss: 0.4127 - val_accuracy: 0.7985\n",
            "Epoch 129/500\n",
            "24/24 [==============================] - 0s 4ms/step - loss: 0.3877 - accuracy: 0.8494 - val_loss: 0.4184 - val_accuracy: 0.7910\n",
            "Epoch 130/500\n",
            "24/24 [==============================] - 0s 4ms/step - loss: 0.3834 - accuracy: 0.8494 - val_loss: 0.4196 - val_accuracy: 0.7836\n",
            "Epoch 131/500\n",
            "24/24 [==============================] - 0s 4ms/step - loss: 0.3831 - accuracy: 0.8454 - val_loss: 0.4148 - val_accuracy: 0.7985\n",
            "Epoch 132/500\n",
            "24/24 [==============================] - 0s 4ms/step - loss: 0.3836 - accuracy: 0.8481 - val_loss: 0.4132 - val_accuracy: 0.7910\n",
            "Epoch 133/500\n",
            "24/24 [==============================] - 0s 4ms/step - loss: 0.3843 - accuracy: 0.8481 - val_loss: 0.4205 - val_accuracy: 0.7910\n",
            "Epoch 134/500\n",
            "24/24 [==============================] - 0s 4ms/step - loss: 0.3861 - accuracy: 0.8454 - val_loss: 0.4156 - val_accuracy: 0.7910\n",
            "Epoch 135/500\n",
            "24/24 [==============================] - 0s 4ms/step - loss: 0.3799 - accuracy: 0.8454 - val_loss: 0.4231 - val_accuracy: 0.7910\n",
            "Epoch 136/500\n",
            "24/24 [==============================] - 0s 4ms/step - loss: 0.3830 - accuracy: 0.8507 - val_loss: 0.4168 - val_accuracy: 0.7910\n",
            "Epoch 137/500\n",
            "24/24 [==============================] - 0s 4ms/step - loss: 0.3801 - accuracy: 0.8454 - val_loss: 0.4159 - val_accuracy: 0.7910\n",
            "Epoch 138/500\n",
            "24/24 [==============================] - 0s 4ms/step - loss: 0.3805 - accuracy: 0.8520 - val_loss: 0.4128 - val_accuracy: 0.7985\n",
            "Epoch 139/500\n",
            "24/24 [==============================] - 0s 4ms/step - loss: 0.3870 - accuracy: 0.8454 - val_loss: 0.4150 - val_accuracy: 0.7910\n",
            "Epoch 140/500\n",
            "24/24 [==============================] - 0s 4ms/step - loss: 0.3817 - accuracy: 0.8520 - val_loss: 0.4142 - val_accuracy: 0.7910\n",
            "Epoch 141/500\n",
            "24/24 [==============================] - 0s 4ms/step - loss: 0.3824 - accuracy: 0.8468 - val_loss: 0.4191 - val_accuracy: 0.7910\n",
            "Epoch 142/500\n",
            "24/24 [==============================] - 0s 4ms/step - loss: 0.3822 - accuracy: 0.8481 - val_loss: 0.4172 - val_accuracy: 0.7910\n",
            "Epoch 143/500\n",
            "24/24 [==============================] - 0s 4ms/step - loss: 0.3818 - accuracy: 0.8520 - val_loss: 0.4143 - val_accuracy: 0.7910\n",
            "Epoch 144/500\n",
            "24/24 [==============================] - 0s 4ms/step - loss: 0.3803 - accuracy: 0.8520 - val_loss: 0.4211 - val_accuracy: 0.8060\n",
            "Epoch 145/500\n",
            "24/24 [==============================] - 0s 4ms/step - loss: 0.3853 - accuracy: 0.8507 - val_loss: 0.4179 - val_accuracy: 0.7910\n",
            "Epoch 146/500\n",
            "24/24 [==============================] - 0s 4ms/step - loss: 0.3810 - accuracy: 0.8494 - val_loss: 0.4183 - val_accuracy: 0.7910\n",
            "Epoch 147/500\n",
            "24/24 [==============================] - 0s 4ms/step - loss: 0.3807 - accuracy: 0.8507 - val_loss: 0.4156 - val_accuracy: 0.7910\n",
            "Epoch 148/500\n",
            "24/24 [==============================] - 0s 4ms/step - loss: 0.3807 - accuracy: 0.8520 - val_loss: 0.4191 - val_accuracy: 0.7985\n",
            "Epoch 149/500\n",
            "24/24 [==============================] - 0s 4ms/step - loss: 0.3796 - accuracy: 0.8481 - val_loss: 0.4196 - val_accuracy: 0.8060\n",
            "Epoch 150/500\n",
            "24/24 [==============================] - 0s 4ms/step - loss: 0.3801 - accuracy: 0.8507 - val_loss: 0.4164 - val_accuracy: 0.7910\n",
            "Epoch 151/500\n",
            "24/24 [==============================] - 0s 4ms/step - loss: 0.3754 - accuracy: 0.8481 - val_loss: 0.4163 - val_accuracy: 0.7910\n",
            "Epoch 152/500\n",
            "24/24 [==============================] - 0s 4ms/step - loss: 0.3773 - accuracy: 0.8507 - val_loss: 0.4182 - val_accuracy: 0.8060\n",
            "Epoch 153/500\n",
            "24/24 [==============================] - 0s 4ms/step - loss: 0.3771 - accuracy: 0.8494 - val_loss: 0.4158 - val_accuracy: 0.7910\n",
            "Epoch 154/500\n",
            "24/24 [==============================] - 0s 4ms/step - loss: 0.3785 - accuracy: 0.8520 - val_loss: 0.4222 - val_accuracy: 0.8060\n",
            "Epoch 155/500\n",
            "24/24 [==============================] - 0s 4ms/step - loss: 0.3801 - accuracy: 0.8481 - val_loss: 0.4133 - val_accuracy: 0.7910\n",
            "Epoch 156/500\n",
            "24/24 [==============================] - 0s 4ms/step - loss: 0.3810 - accuracy: 0.8494 - val_loss: 0.4175 - val_accuracy: 0.8060\n",
            "Epoch 157/500\n",
            "24/24 [==============================] - 0s 4ms/step - loss: 0.3820 - accuracy: 0.8494 - val_loss: 0.4188 - val_accuracy: 0.8060\n",
            "Epoch 158/500\n",
            "24/24 [==============================] - 0s 4ms/step - loss: 0.3790 - accuracy: 0.8507 - val_loss: 0.4171 - val_accuracy: 0.7985\n",
            "Epoch 159/500\n",
            "24/24 [==============================] - 0s 4ms/step - loss: 0.3786 - accuracy: 0.8494 - val_loss: 0.4177 - val_accuracy: 0.7985\n",
            "Epoch 160/500\n",
            "24/24 [==============================] - 0s 4ms/step - loss: 0.3773 - accuracy: 0.8494 - val_loss: 0.4179 - val_accuracy: 0.7985\n",
            "Epoch 161/500\n",
            "24/24 [==============================] - 0s 4ms/step - loss: 0.3759 - accuracy: 0.8507 - val_loss: 0.4175 - val_accuracy: 0.7985\n",
            "Epoch 162/500\n",
            "24/24 [==============================] - 0s 4ms/step - loss: 0.3758 - accuracy: 0.8494 - val_loss: 0.4147 - val_accuracy: 0.7910\n",
            "Epoch 163/500\n",
            "24/24 [==============================] - 0s 4ms/step - loss: 0.3777 - accuracy: 0.8402 - val_loss: 0.4207 - val_accuracy: 0.7985\n",
            "Epoch 164/500\n",
            "24/24 [==============================] - 0s 4ms/step - loss: 0.3792 - accuracy: 0.8507 - val_loss: 0.4169 - val_accuracy: 0.7985\n",
            "Epoch 165/500\n",
            "24/24 [==============================] - 0s 4ms/step - loss: 0.3776 - accuracy: 0.8507 - val_loss: 0.4189 - val_accuracy: 0.8060\n",
            "Epoch 166/500\n",
            "24/24 [==============================] - 0s 4ms/step - loss: 0.3794 - accuracy: 0.8534 - val_loss: 0.4217 - val_accuracy: 0.8060\n",
            "Epoch 167/500\n",
            "24/24 [==============================] - 0s 4ms/step - loss: 0.3781 - accuracy: 0.8322 - val_loss: 0.4146 - val_accuracy: 0.7985\n",
            "Epoch 168/500\n",
            "24/24 [==============================] - 0s 4ms/step - loss: 0.3800 - accuracy: 0.8428 - val_loss: 0.4212 - val_accuracy: 0.8060\n",
            "Epoch 169/500\n",
            "24/24 [==============================] - 0s 4ms/step - loss: 0.3824 - accuracy: 0.8388 - val_loss: 0.4220 - val_accuracy: 0.8060\n",
            "Epoch 170/500\n",
            "24/24 [==============================] - 0s 4ms/step - loss: 0.3794 - accuracy: 0.8494 - val_loss: 0.4155 - val_accuracy: 0.7985\n",
            "Epoch 171/500\n",
            "24/24 [==============================] - 0s 4ms/step - loss: 0.3781 - accuracy: 0.8507 - val_loss: 0.4217 - val_accuracy: 0.8060\n",
            "Epoch 172/500\n",
            "24/24 [==============================] - 0s 4ms/step - loss: 0.3753 - accuracy: 0.8494 - val_loss: 0.4214 - val_accuracy: 0.8060\n",
            "Epoch 173/500\n",
            "24/24 [==============================] - 0s 4ms/step - loss: 0.3757 - accuracy: 0.8415 - val_loss: 0.4227 - val_accuracy: 0.8060\n",
            "Epoch 174/500\n",
            "24/24 [==============================] - 0s 4ms/step - loss: 0.3777 - accuracy: 0.8468 - val_loss: 0.4183 - val_accuracy: 0.7985\n",
            "Epoch 175/500\n",
            "24/24 [==============================] - 0s 4ms/step - loss: 0.3763 - accuracy: 0.8494 - val_loss: 0.4185 - val_accuracy: 0.7985\n",
            "Epoch 176/500\n",
            "24/24 [==============================] - 0s 4ms/step - loss: 0.3736 - accuracy: 0.8520 - val_loss: 0.4178 - val_accuracy: 0.7985\n",
            "Epoch 177/500\n",
            "24/24 [==============================] - 0s 4ms/step - loss: 0.3752 - accuracy: 0.8481 - val_loss: 0.4229 - val_accuracy: 0.8060\n",
            "Epoch 178/500\n",
            "24/24 [==============================] - 0s 4ms/step - loss: 0.3746 - accuracy: 0.8481 - val_loss: 0.4220 - val_accuracy: 0.7985\n",
            "Epoch 179/500\n",
            "24/24 [==============================] - 0s 4ms/step - loss: 0.3725 - accuracy: 0.8454 - val_loss: 0.4191 - val_accuracy: 0.7985\n",
            "Epoch 180/500\n",
            "24/24 [==============================] - 0s 4ms/step - loss: 0.3745 - accuracy: 0.8507 - val_loss: 0.4188 - val_accuracy: 0.7985\n",
            "Epoch 181/500\n",
            "24/24 [==============================] - 0s 4ms/step - loss: 0.3735 - accuracy: 0.8507 - val_loss: 0.4212 - val_accuracy: 0.7985\n",
            "Epoch 182/500\n",
            "24/24 [==============================] - 0s 4ms/step - loss: 0.3759 - accuracy: 0.8507 - val_loss: 0.4190 - val_accuracy: 0.7985\n",
            "Epoch 183/500\n",
            "24/24 [==============================] - 0s 4ms/step - loss: 0.3742 - accuracy: 0.8494 - val_loss: 0.4210 - val_accuracy: 0.7985\n",
            "Epoch 184/500\n",
            "24/24 [==============================] - 0s 4ms/step - loss: 0.3724 - accuracy: 0.8520 - val_loss: 0.4264 - val_accuracy: 0.8060\n",
            "Epoch 185/500\n",
            "24/24 [==============================] - 0s 4ms/step - loss: 0.3717 - accuracy: 0.8507 - val_loss: 0.4203 - val_accuracy: 0.7985\n",
            "Epoch 186/500\n",
            "24/24 [==============================] - 0s 4ms/step - loss: 0.3713 - accuracy: 0.8468 - val_loss: 0.4209 - val_accuracy: 0.7985\n",
            "Epoch 187/500\n",
            "24/24 [==============================] - 0s 4ms/step - loss: 0.3733 - accuracy: 0.8441 - val_loss: 0.4200 - val_accuracy: 0.7985\n",
            "Epoch 188/500\n",
            "24/24 [==============================] - 0s 4ms/step - loss: 0.3695 - accuracy: 0.8481 - val_loss: 0.4253 - val_accuracy: 0.8060\n",
            "Epoch 189/500\n",
            "24/24 [==============================] - 0s 4ms/step - loss: 0.3718 - accuracy: 0.8494 - val_loss: 0.4177 - val_accuracy: 0.7985\n",
            "Epoch 190/500\n",
            "24/24 [==============================] - 0s 4ms/step - loss: 0.3727 - accuracy: 0.8520 - val_loss: 0.4206 - val_accuracy: 0.7985\n",
            "Epoch 191/500\n",
            "24/24 [==============================] - 0s 4ms/step - loss: 0.3747 - accuracy: 0.8494 - val_loss: 0.4266 - val_accuracy: 0.8060\n",
            "Epoch 192/500\n",
            "24/24 [==============================] - 0s 4ms/step - loss: 0.3725 - accuracy: 0.8494 - val_loss: 0.4191 - val_accuracy: 0.7985\n",
            "Epoch 193/500\n",
            "24/24 [==============================] - 0s 4ms/step - loss: 0.3690 - accuracy: 0.8494 - val_loss: 0.4293 - val_accuracy: 0.8134\n",
            "Epoch 194/500\n",
            "24/24 [==============================] - 0s 4ms/step - loss: 0.3746 - accuracy: 0.8507 - val_loss: 0.4186 - val_accuracy: 0.8060\n",
            "Epoch 195/500\n",
            "24/24 [==============================] - 0s 4ms/step - loss: 0.3733 - accuracy: 0.8494 - val_loss: 0.4188 - val_accuracy: 0.8060\n",
            "Epoch 196/500\n",
            "24/24 [==============================] - 0s 4ms/step - loss: 0.3688 - accuracy: 0.8507 - val_loss: 0.4255 - val_accuracy: 0.8134\n",
            "Epoch 197/500\n",
            "24/24 [==============================] - 0s 4ms/step - loss: 0.3696 - accuracy: 0.8494 - val_loss: 0.4207 - val_accuracy: 0.7985\n",
            "Epoch 198/500\n",
            "24/24 [==============================] - 0s 4ms/step - loss: 0.3721 - accuracy: 0.8494 - val_loss: 0.4269 - val_accuracy: 0.8134\n",
            "Epoch 199/500\n",
            "24/24 [==============================] - 0s 4ms/step - loss: 0.3746 - accuracy: 0.8494 - val_loss: 0.4276 - val_accuracy: 0.8060\n",
            "Epoch 200/500\n",
            "24/24 [==============================] - 0s 4ms/step - loss: 0.3675 - accuracy: 0.8494 - val_loss: 0.4223 - val_accuracy: 0.8134\n",
            "Epoch 201/500\n",
            "24/24 [==============================] - 0s 4ms/step - loss: 0.3693 - accuracy: 0.8494 - val_loss: 0.4240 - val_accuracy: 0.8134\n",
            "Epoch 202/500\n",
            "24/24 [==============================] - 0s 4ms/step - loss: 0.3682 - accuracy: 0.8494 - val_loss: 0.4217 - val_accuracy: 0.8060\n",
            "Epoch 203/500\n",
            "24/24 [==============================] - 0s 4ms/step - loss: 0.3689 - accuracy: 0.8481 - val_loss: 0.4279 - val_accuracy: 0.8134\n",
            "Epoch 204/500\n",
            "24/24 [==============================] - 0s 4ms/step - loss: 0.3714 - accuracy: 0.8534 - val_loss: 0.4202 - val_accuracy: 0.8060\n",
            "Epoch 205/500\n",
            "24/24 [==============================] - 0s 4ms/step - loss: 0.3720 - accuracy: 0.8494 - val_loss: 0.4320 - val_accuracy: 0.8134\n",
            "Epoch 206/500\n",
            "24/24 [==============================] - 0s 4ms/step - loss: 0.3644 - accuracy: 0.8481 - val_loss: 0.4202 - val_accuracy: 0.8060\n",
            "Epoch 207/500\n",
            "24/24 [==============================] - 0s 4ms/step - loss: 0.3674 - accuracy: 0.8520 - val_loss: 0.4258 - val_accuracy: 0.8134\n",
            "Epoch 208/500\n",
            "24/24 [==============================] - 0s 4ms/step - loss: 0.3686 - accuracy: 0.8428 - val_loss: 0.4198 - val_accuracy: 0.8060\n",
            "Epoch 209/500\n",
            "24/24 [==============================] - 0s 4ms/step - loss: 0.3680 - accuracy: 0.8507 - val_loss: 0.4202 - val_accuracy: 0.8060\n",
            "Epoch 210/500\n",
            "24/24 [==============================] - 0s 4ms/step - loss: 0.3658 - accuracy: 0.8507 - val_loss: 0.4235 - val_accuracy: 0.8060\n",
            "Epoch 211/500\n",
            "24/24 [==============================] - 0s 5ms/step - loss: 0.3655 - accuracy: 0.8494 - val_loss: 0.4241 - val_accuracy: 0.8134\n",
            "Epoch 212/500\n",
            "24/24 [==============================] - 0s 4ms/step - loss: 0.3688 - accuracy: 0.8494 - val_loss: 0.4352 - val_accuracy: 0.8134\n",
            "Epoch 213/500\n",
            "24/24 [==============================] - 0s 4ms/step - loss: 0.3705 - accuracy: 0.8468 - val_loss: 0.4241 - val_accuracy: 0.8134\n",
            "Epoch 214/500\n",
            "24/24 [==============================] - 0s 4ms/step - loss: 0.3668 - accuracy: 0.8507 - val_loss: 0.4299 - val_accuracy: 0.8134\n",
            "Epoch 215/500\n",
            "24/24 [==============================] - 0s 4ms/step - loss: 0.3691 - accuracy: 0.8468 - val_loss: 0.4204 - val_accuracy: 0.8060\n",
            "Epoch 216/500\n",
            "24/24 [==============================] - 0s 4ms/step - loss: 0.3686 - accuracy: 0.8507 - val_loss: 0.4279 - val_accuracy: 0.8134\n",
            "Epoch 217/500\n",
            "24/24 [==============================] - 0s 4ms/step - loss: 0.3676 - accuracy: 0.8481 - val_loss: 0.4220 - val_accuracy: 0.8060\n",
            "Epoch 218/500\n",
            "24/24 [==============================] - 0s 4ms/step - loss: 0.3688 - accuracy: 0.8494 - val_loss: 0.4213 - val_accuracy: 0.8060\n",
            "Epoch 219/500\n",
            "24/24 [==============================] - 0s 4ms/step - loss: 0.3714 - accuracy: 0.8388 - val_loss: 0.4267 - val_accuracy: 0.8060\n",
            "Epoch 220/500\n",
            "24/24 [==============================] - 0s 4ms/step - loss: 0.3659 - accuracy: 0.8507 - val_loss: 0.4251 - val_accuracy: 0.8060\n",
            "Epoch 221/500\n",
            "24/24 [==============================] - 0s 4ms/step - loss: 0.3645 - accuracy: 0.8507 - val_loss: 0.4269 - val_accuracy: 0.8134\n",
            "Epoch 222/500\n",
            "24/24 [==============================] - 0s 4ms/step - loss: 0.3659 - accuracy: 0.8507 - val_loss: 0.4259 - val_accuracy: 0.8060\n",
            "Epoch 223/500\n",
            "24/24 [==============================] - 0s 4ms/step - loss: 0.3696 - accuracy: 0.8481 - val_loss: 0.4263 - val_accuracy: 0.8060\n",
            "Epoch 224/500\n",
            "24/24 [==============================] - 0s 4ms/step - loss: 0.3703 - accuracy: 0.8494 - val_loss: 0.4193 - val_accuracy: 0.8060\n",
            "Epoch 225/500\n",
            "24/24 [==============================] - 0s 4ms/step - loss: 0.3672 - accuracy: 0.8520 - val_loss: 0.4231 - val_accuracy: 0.8060\n",
            "Epoch 226/500\n",
            "24/24 [==============================] - 0s 4ms/step - loss: 0.3652 - accuracy: 0.8507 - val_loss: 0.4298 - val_accuracy: 0.8134\n",
            "Epoch 227/500\n",
            "24/24 [==============================] - 0s 4ms/step - loss: 0.3651 - accuracy: 0.8520 - val_loss: 0.4269 - val_accuracy: 0.8134\n",
            "Epoch 228/500\n",
            "24/24 [==============================] - 0s 4ms/step - loss: 0.3636 - accuracy: 0.8494 - val_loss: 0.4275 - val_accuracy: 0.8060\n",
            "Epoch 229/500\n",
            "24/24 [==============================] - 0s 5ms/step - loss: 0.3666 - accuracy: 0.8481 - val_loss: 0.4228 - val_accuracy: 0.8060\n",
            "Epoch 230/500\n",
            "24/24 [==============================] - 0s 4ms/step - loss: 0.3679 - accuracy: 0.8534 - val_loss: 0.4282 - val_accuracy: 0.8134\n",
            "Epoch 231/500\n",
            "24/24 [==============================] - 0s 4ms/step - loss: 0.3625 - accuracy: 0.8507 - val_loss: 0.4325 - val_accuracy: 0.8134\n",
            "Epoch 232/500\n",
            "24/24 [==============================] - 0s 4ms/step - loss: 0.3628 - accuracy: 0.8481 - val_loss: 0.4301 - val_accuracy: 0.8134\n",
            "Epoch 233/500\n",
            "24/24 [==============================] - 0s 4ms/step - loss: 0.3616 - accuracy: 0.8507 - val_loss: 0.4287 - val_accuracy: 0.8134\n",
            "Epoch 234/500\n",
            "24/24 [==============================] - 0s 4ms/step - loss: 0.3640 - accuracy: 0.8494 - val_loss: 0.4231 - val_accuracy: 0.8060\n",
            "Epoch 235/500\n",
            "24/24 [==============================] - 0s 4ms/step - loss: 0.3643 - accuracy: 0.8481 - val_loss: 0.4291 - val_accuracy: 0.8060\n",
            "Epoch 236/500\n",
            "24/24 [==============================] - 0s 4ms/step - loss: 0.3634 - accuracy: 0.8507 - val_loss: 0.4292 - val_accuracy: 0.8134\n",
            "Epoch 237/500\n",
            "24/24 [==============================] - 0s 4ms/step - loss: 0.3624 - accuracy: 0.8494 - val_loss: 0.4303 - val_accuracy: 0.8060\n",
            "Epoch 238/500\n",
            "24/24 [==============================] - 0s 4ms/step - loss: 0.3607 - accuracy: 0.8481 - val_loss: 0.4354 - val_accuracy: 0.8134\n",
            "Epoch 239/500\n",
            "24/24 [==============================] - 0s 4ms/step - loss: 0.3609 - accuracy: 0.8520 - val_loss: 0.4334 - val_accuracy: 0.8134\n",
            "Epoch 240/500\n",
            "24/24 [==============================] - 0s 4ms/step - loss: 0.3622 - accuracy: 0.8481 - val_loss: 0.4321 - val_accuracy: 0.8134\n",
            "Epoch 241/500\n",
            "24/24 [==============================] - 0s 4ms/step - loss: 0.3674 - accuracy: 0.8520 - val_loss: 0.4259 - val_accuracy: 0.8060\n",
            "Epoch 242/500\n",
            "24/24 [==============================] - 0s 4ms/step - loss: 0.3624 - accuracy: 0.8481 - val_loss: 0.4384 - val_accuracy: 0.8134\n",
            "Epoch 243/500\n",
            "24/24 [==============================] - 0s 5ms/step - loss: 0.3668 - accuracy: 0.8507 - val_loss: 0.4332 - val_accuracy: 0.8134\n",
            "Epoch 244/500\n",
            "24/24 [==============================] - 0s 4ms/step - loss: 0.3628 - accuracy: 0.8520 - val_loss: 0.4323 - val_accuracy: 0.8060\n",
            "Epoch 245/500\n",
            "24/24 [==============================] - 0s 4ms/step - loss: 0.3629 - accuracy: 0.8468 - val_loss: 0.4366 - val_accuracy: 0.8134\n",
            "Epoch 246/500\n",
            "24/24 [==============================] - 0s 4ms/step - loss: 0.3595 - accuracy: 0.8494 - val_loss: 0.4332 - val_accuracy: 0.8134\n",
            "Epoch 247/500\n",
            "24/24 [==============================] - 0s 4ms/step - loss: 0.3619 - accuracy: 0.8560 - val_loss: 0.4306 - val_accuracy: 0.8060\n",
            "Epoch 248/500\n",
            "24/24 [==============================] - 0s 4ms/step - loss: 0.3608 - accuracy: 0.8494 - val_loss: 0.4294 - val_accuracy: 0.8060\n",
            "Epoch 249/500\n",
            "24/24 [==============================] - 0s 4ms/step - loss: 0.3593 - accuracy: 0.8534 - val_loss: 0.4380 - val_accuracy: 0.8134\n",
            "Epoch 250/500\n",
            "24/24 [==============================] - 0s 4ms/step - loss: 0.3635 - accuracy: 0.8468 - val_loss: 0.4278 - val_accuracy: 0.8060\n",
            "Epoch 251/500\n",
            "24/24 [==============================] - 0s 4ms/step - loss: 0.3597 - accuracy: 0.8520 - val_loss: 0.4305 - val_accuracy: 0.8060\n",
            "Epoch 252/500\n",
            "24/24 [==============================] - 0s 5ms/step - loss: 0.3626 - accuracy: 0.8534 - val_loss: 0.4356 - val_accuracy: 0.8134\n",
            "Epoch 253/500\n",
            "24/24 [==============================] - 0s 4ms/step - loss: 0.3631 - accuracy: 0.8507 - val_loss: 0.4352 - val_accuracy: 0.8134\n",
            "Epoch 254/500\n",
            "24/24 [==============================] - 0s 5ms/step - loss: 0.3633 - accuracy: 0.8507 - val_loss: 0.4291 - val_accuracy: 0.8134\n",
            "Epoch 255/500\n",
            "24/24 [==============================] - 0s 4ms/step - loss: 0.3610 - accuracy: 0.8573 - val_loss: 0.4340 - val_accuracy: 0.8060\n",
            "Epoch 256/500\n",
            "24/24 [==============================] - 0s 5ms/step - loss: 0.3620 - accuracy: 0.8468 - val_loss: 0.4423 - val_accuracy: 0.8209\n",
            "Epoch 257/500\n",
            "24/24 [==============================] - 0s 4ms/step - loss: 0.3604 - accuracy: 0.8494 - val_loss: 0.4359 - val_accuracy: 0.8134\n",
            "Epoch 258/500\n",
            "24/24 [==============================] - 0s 4ms/step - loss: 0.3628 - accuracy: 0.8534 - val_loss: 0.4358 - val_accuracy: 0.8134\n",
            "Epoch 259/500\n",
            "24/24 [==============================] - 0s 4ms/step - loss: 0.3591 - accuracy: 0.8520 - val_loss: 0.4389 - val_accuracy: 0.8134\n",
            "Epoch 260/500\n",
            "24/24 [==============================] - 0s 4ms/step - loss: 0.3612 - accuracy: 0.8520 - val_loss: 0.4341 - val_accuracy: 0.8060\n",
            "Epoch 261/500\n",
            "24/24 [==============================] - 0s 4ms/step - loss: 0.3648 - accuracy: 0.8520 - val_loss: 0.4335 - val_accuracy: 0.8060\n",
            "Epoch 262/500\n",
            "24/24 [==============================] - 0s 4ms/step - loss: 0.3634 - accuracy: 0.8481 - val_loss: 0.4391 - val_accuracy: 0.8134\n",
            "Epoch 263/500\n",
            "24/24 [==============================] - 0s 4ms/step - loss: 0.3579 - accuracy: 0.8520 - val_loss: 0.4353 - val_accuracy: 0.8060\n",
            "Epoch 264/500\n",
            "24/24 [==============================] - 0s 4ms/step - loss: 0.3599 - accuracy: 0.8481 - val_loss: 0.4364 - val_accuracy: 0.8134\n",
            "Epoch 265/500\n",
            "24/24 [==============================] - 0s 4ms/step - loss: 0.3577 - accuracy: 0.8507 - val_loss: 0.4307 - val_accuracy: 0.8134\n",
            "Epoch 266/500\n",
            "24/24 [==============================] - 0s 4ms/step - loss: 0.3599 - accuracy: 0.8547 - val_loss: 0.4313 - val_accuracy: 0.8060\n",
            "Epoch 267/500\n",
            "24/24 [==============================] - 0s 4ms/step - loss: 0.3575 - accuracy: 0.8534 - val_loss: 0.4469 - val_accuracy: 0.8209\n",
            "Epoch 268/500\n",
            "24/24 [==============================] - 0s 5ms/step - loss: 0.3552 - accuracy: 0.8534 - val_loss: 0.4329 - val_accuracy: 0.8060\n",
            "Epoch 269/500\n",
            "24/24 [==============================] - 0s 4ms/step - loss: 0.3586 - accuracy: 0.8468 - val_loss: 0.4379 - val_accuracy: 0.8134\n",
            "Epoch 270/500\n",
            "24/24 [==============================] - 0s 4ms/step - loss: 0.3570 - accuracy: 0.8481 - val_loss: 0.4328 - val_accuracy: 0.8060\n",
            "Epoch 271/500\n",
            "24/24 [==============================] - 0s 4ms/step - loss: 0.3594 - accuracy: 0.8428 - val_loss: 0.4432 - val_accuracy: 0.8134\n",
            "Epoch 272/500\n",
            "24/24 [==============================] - 0s 4ms/step - loss: 0.3588 - accuracy: 0.8494 - val_loss: 0.4287 - val_accuracy: 0.8134\n",
            "Epoch 273/500\n",
            "24/24 [==============================] - 0s 4ms/step - loss: 0.3598 - accuracy: 0.8481 - val_loss: 0.4367 - val_accuracy: 0.8060\n",
            "Epoch 274/500\n",
            "24/24 [==============================] - 0s 4ms/step - loss: 0.3605 - accuracy: 0.8547 - val_loss: 0.4371 - val_accuracy: 0.8060\n",
            "Epoch 275/500\n",
            "24/24 [==============================] - 0s 4ms/step - loss: 0.3566 - accuracy: 0.8507 - val_loss: 0.4397 - val_accuracy: 0.8134\n",
            "Epoch 276/500\n",
            "24/24 [==============================] - 0s 4ms/step - loss: 0.3556 - accuracy: 0.8507 - val_loss: 0.4358 - val_accuracy: 0.8060\n",
            "Epoch 277/500\n",
            "24/24 [==============================] - 0s 4ms/step - loss: 0.3587 - accuracy: 0.8547 - val_loss: 0.4360 - val_accuracy: 0.8060\n",
            "Epoch 278/500\n",
            "24/24 [==============================] - 0s 4ms/step - loss: 0.3575 - accuracy: 0.8507 - val_loss: 0.4315 - val_accuracy: 0.8134\n",
            "Epoch 00278: early stopping\n"
          ],
          "name": "stdout"
        },
        {
          "output_type": "execute_result",
          "data": {
            "text/plain": [
              "<tensorflow.python.keras.callbacks.History at 0x7fcab35ce1d0>"
            ]
          },
          "metadata": {
            "tags": []
          },
          "execution_count": 296
        }
      ]
    },
    {
      "cell_type": "code",
      "metadata": {
        "id": "m0X5cHglY31B",
        "colab_type": "code",
        "outputId": "e6ed0c5c-f165-4580-eeba-033fccdfbb1f",
        "colab": {
          "base_uri": "https://localhost:8080/",
          "height": 462
        }
      },
      "source": [
        "loss_df=pd.DataFrame(model.history.history)\n",
        "loss_df.plot(figsize=(14,8))"
      ],
      "execution_count": 0,
      "outputs": [
        {
          "output_type": "execute_result",
          "data": {
            "text/plain": [
              "<matplotlib.axes._subplots.AxesSubplot at 0x7fcab372f710>"
            ]
          },
          "metadata": {
            "tags": []
          },
          "execution_count": 297
        },
        {
          "output_type": "display_data",
          "data": {
            "image/png": "[encoded data removed]",
            "text/plain": [
              "<Figure size 1008x576 with 1 Axes>"
            ]
          },
          "metadata": {
            "tags": [],
            "needs_background": "light"
          }
        }
      ]
    },
    {
      "cell_type": "code",
      "metadata": {
        "id": "9gO7qLn_Zpf_",
        "colab_type": "code",
        "outputId": "4fae92e9-e4ff-4521-e16c-6e90879fdd0c",
        "colab": {
          "base_uri": "https://localhost:8080/",
          "height": 407
        }
      },
      "source": [
        "loss_df"
      ],
      "execution_count": 0,
      "outputs": [
        {
          "output_type": "execute_result",
          "data": {
            "text/html": [
              "<div>\n",
              "<style scoped>\n",
              "    .dataframe tbody tr th:only-of-type {\n",
              "        vertical-align: middle;\n",
              "    }\n",
              "\n",
              "    .dataframe tbody tr th {\n",
              "        vertical-align: top;\n",
              "    }\n",
              "\n",
              "    .dataframe thead th {\n",
              "        text-align: right;\n",
              "    }\n",
              "</style>\n",
              "<table border=\"1\" class=\"dataframe\">\n",
              "  <thead>\n",
              "    <tr style=\"text-align: right;\">\n",
              "      <th></th>\n",
              "      <th>loss</th>\n",
              "      <th>accuracy</th>\n",
              "      <th>val_loss</th>\n",
              "      <th>val_accuracy</th>\n",
              "    </tr>\n",
              "  </thead>\n",
              "  <tbody>\n",
              "    <tr>\n",
              "      <th>0</th>\n",
              "      <td>0.678736</td>\n",
              "      <td>0.723910</td>\n",
              "      <td>0.662867</td>\n",
              "      <td>0.746269</td>\n",
              "    </tr>\n",
              "    <tr>\n",
              "      <th>1</th>\n",
              "      <td>0.658152</td>\n",
              "      <td>0.718626</td>\n",
              "      <td>0.635419</td>\n",
              "      <td>0.738806</td>\n",
              "    </tr>\n",
              "    <tr>\n",
              "      <th>2</th>\n",
              "      <td>0.632299</td>\n",
              "      <td>0.709379</td>\n",
              "      <td>0.600366</td>\n",
              "      <td>0.746269</td>\n",
              "    </tr>\n",
              "    <tr>\n",
              "      <th>3</th>\n",
              "      <td>0.597082</td>\n",
              "      <td>0.750330</td>\n",
              "      <td>0.563042</td>\n",
              "      <td>0.791045</td>\n",
              "    </tr>\n",
              "    <tr>\n",
              "      <th>4</th>\n",
              "      <td>0.560202</td>\n",
              "      <td>0.768824</td>\n",
              "      <td>0.523824</td>\n",
              "      <td>0.791045</td>\n",
              "    </tr>\n",
              "    <tr>\n",
              "      <th>...</th>\n",
              "      <td>...</td>\n",
              "      <td>...</td>\n",
              "      <td>...</td>\n",
              "      <td>...</td>\n",
              "    </tr>\n",
              "    <tr>\n",
              "      <th>273</th>\n",
              "      <td>0.360458</td>\n",
              "      <td>0.854690</td>\n",
              "      <td>0.437138</td>\n",
              "      <td>0.805970</td>\n",
              "    </tr>\n",
              "    <tr>\n",
              "      <th>274</th>\n",
              "      <td>0.356643</td>\n",
              "      <td>0.850727</td>\n",
              "      <td>0.439729</td>\n",
              "      <td>0.813433</td>\n",
              "    </tr>\n",
              "    <tr>\n",
              "      <th>275</th>\n",
              "      <td>0.355617</td>\n",
              "      <td>0.850727</td>\n",
              "      <td>0.435835</td>\n",
              "      <td>0.805970</td>\n",
              "    </tr>\n",
              "    <tr>\n",
              "      <th>276</th>\n",
              "      <td>0.358722</td>\n",
              "      <td>0.854690</td>\n",
              "      <td>0.435986</td>\n",
              "      <td>0.805970</td>\n",
              "    </tr>\n",
              "    <tr>\n",
              "      <th>277</th>\n",
              "      <td>0.357532</td>\n",
              "      <td>0.850727</td>\n",
              "      <td>0.431485</td>\n",
              "      <td>0.813433</td>\n",
              "    </tr>\n",
              "  </tbody>\n",
              "</table>\n",
              "<p>278 rows × 4 columns</p>\n",
              "</div>"
            ],
            "text/plain": [
              "         loss  accuracy  val_loss  val_accuracy\n",
              "0    0.678736  0.723910  0.662867      0.746269\n",
              "1    0.658152  0.718626  0.635419      0.738806\n",
              "2    0.632299  0.709379  0.600366      0.746269\n",
              "3    0.597082  0.750330  0.563042      0.791045\n",
              "4    0.560202  0.768824  0.523824      0.791045\n",
              "..        ...       ...       ...           ...\n",
              "273  0.360458  0.854690  0.437138      0.805970\n",
              "274  0.356643  0.850727  0.439729      0.813433\n",
              "275  0.355617  0.850727  0.435835      0.805970\n",
              "276  0.358722  0.854690  0.435986      0.805970\n",
              "277  0.357532  0.850727  0.431485      0.813433\n",
              "\n",
              "[278 rows x 4 columns]"
            ]
          },
          "metadata": {
            "tags": []
          },
          "execution_count": 298
        }
      ]
    },
    {
      "cell_type": "code",
      "metadata": {
        "id": "wxbupfC7dA48",
        "colab_type": "code",
        "colab": {}
      },
      "source": [
        "predictions=model.predict_classes(X_test)"
      ],
      "execution_count": 0,
      "outputs": []
    },
    {
      "cell_type": "code",
      "metadata": {
        "id": "sDtpIIrUdE-6",
        "colab_type": "code",
        "outputId": "a68873e8-e088-4d05-db00-90143f8d3f2f",
        "colab": {
          "base_uri": "https://localhost:8080/",
          "height": 181
        }
      },
      "source": [
        "print(classification_report(y_test,predictions))"
      ],
      "execution_count": 0,
      "outputs": [
        {
          "output_type": "stream",
          "text": [
            "              precision    recall  f1-score   support\n",
            "\n",
            "           0       0.79      0.92      0.85        79\n",
            "           1       0.86      0.65      0.74        55\n",
            "\n",
            "    accuracy                           0.81       134\n",
            "   macro avg       0.83      0.79      0.80       134\n",
            "weighted avg       0.82      0.81      0.81       134\n",
            "\n"
          ],
          "name": "stdout"
        }
      ]
    },
    {
      "cell_type": "code",
      "metadata": {
        "id": "2oq7nikNdNDe",
        "colab_type": "code",
        "outputId": "61d80b49-b3c9-4617-a2fd-7ad2ab882824",
        "colab": {
          "base_uri": "https://localhost:8080/",
          "height": 54
        }
      },
      "source": [
        "print(confusion_matrix(y_test,predictions))"
      ],
      "execution_count": 0,
      "outputs": [
        {
          "output_type": "stream",
          "text": [
            "[[73  6]\n",
            " [19 36]]\n"
          ],
          "name": "stdout"
        }
      ]
    },
    {
      "cell_type": "markdown",
      "metadata": {
        "id": "prtjCPemdxRH",
        "colab_type": "text"
      },
      "source": [
        "# Predictions"
      ]
    },
    {
      "cell_type": "code",
      "metadata": {
        "id": "7NRm2DucdS0-",
        "colab_type": "code",
        "colab": {}
      },
      "source": [
        "single_person=df.drop('Survived',axis=1).iloc[0]"
      ],
      "execution_count": 0,
      "outputs": []
    },
    {
      "cell_type": "code",
      "metadata": {
        "id": "doIpyWjvd3DL",
        "colab_type": "code",
        "colab": {}
      },
      "source": [
        "single_person=scaler.transform(single_person.values.reshape(-1,13))"
      ],
      "execution_count": 0,
      "outputs": []
    },
    {
      "cell_type": "code",
      "metadata": {
        "id": "WSa_qVncd7DK",
        "colab_type": "code",
        "outputId": "97c90157-dc07-4bf3-c715-70c91eafbe70",
        "colab": {
          "base_uri": "https://localhost:8080/",
          "height": 35
        }
      },
      "source": [
        "model.predict_classes(single_person)"
      ],
      "execution_count": 0,
      "outputs": [
        {
          "output_type": "execute_result",
          "data": {
            "text/plain": [
              "array([[0]], dtype=int32)"
            ]
          },
          "metadata": {
            "tags": []
          },
          "execution_count": 187
        }
      ]
    },
    {
      "cell_type": "code",
      "metadata": {
        "id": "2THygGCTeBex",
        "colab_type": "code",
        "outputId": "121fdb7d-66d8-4d46-aa24-7e890cd637c2",
        "colab": {
          "base_uri": "https://localhost:8080/",
          "height": 198
        }
      },
      "source": [
        "df.head()"
      ],
      "execution_count": 0,
      "outputs": [
        {
          "output_type": "execute_result",
          "data": {
            "text/html": [
              "<div>\n",
              "<style scoped>\n",
              "    .dataframe tbody tr th:only-of-type {\n",
              "        vertical-align: middle;\n",
              "    }\n",
              "\n",
              "    .dataframe tbody tr th {\n",
              "        vertical-align: top;\n",
              "    }\n",
              "\n",
              "    .dataframe thead th {\n",
              "        text-align: right;\n",
              "    }\n",
              "</style>\n",
              "<table border=\"1\" class=\"dataframe\">\n",
              "  <thead>\n",
              "    <tr style=\"text-align: right;\">\n",
              "      <th></th>\n",
              "      <th>Pclass</th>\n",
              "      <th>Sex</th>\n",
              "      <th>Age</th>\n",
              "      <th>SibSp</th>\n",
              "      <th>Parch</th>\n",
              "      <th>Fare</th>\n",
              "      <th>Survived</th>\n",
              "      <th>B</th>\n",
              "      <th>C</th>\n",
              "      <th>D</th>\n",
              "      <th>E</th>\n",
              "      <th>F</th>\n",
              "      <th>G</th>\n",
              "      <th>T</th>\n",
              "    </tr>\n",
              "  </thead>\n",
              "  <tbody>\n",
              "    <tr>\n",
              "      <th>0</th>\n",
              "      <td>3</td>\n",
              "      <td>0</td>\n",
              "      <td>22.0</td>\n",
              "      <td>1</td>\n",
              "      <td>0</td>\n",
              "      <td>7.2500</td>\n",
              "      <td>0</td>\n",
              "      <td>0</td>\n",
              "      <td>0</td>\n",
              "      <td>0</td>\n",
              "      <td>0</td>\n",
              "      <td>0</td>\n",
              "      <td>0</td>\n",
              "      <td>0</td>\n",
              "    </tr>\n",
              "    <tr>\n",
              "      <th>1</th>\n",
              "      <td>1</td>\n",
              "      <td>1</td>\n",
              "      <td>38.0</td>\n",
              "      <td>1</td>\n",
              "      <td>0</td>\n",
              "      <td>71.2833</td>\n",
              "      <td>1</td>\n",
              "      <td>0</td>\n",
              "      <td>1</td>\n",
              "      <td>0</td>\n",
              "      <td>0</td>\n",
              "      <td>0</td>\n",
              "      <td>0</td>\n",
              "      <td>0</td>\n",
              "    </tr>\n",
              "    <tr>\n",
              "      <th>2</th>\n",
              "      <td>3</td>\n",
              "      <td>1</td>\n",
              "      <td>26.0</td>\n",
              "      <td>0</td>\n",
              "      <td>0</td>\n",
              "      <td>7.9250</td>\n",
              "      <td>1</td>\n",
              "      <td>0</td>\n",
              "      <td>0</td>\n",
              "      <td>0</td>\n",
              "      <td>0</td>\n",
              "      <td>0</td>\n",
              "      <td>0</td>\n",
              "      <td>0</td>\n",
              "    </tr>\n",
              "    <tr>\n",
              "      <th>3</th>\n",
              "      <td>1</td>\n",
              "      <td>1</td>\n",
              "      <td>35.0</td>\n",
              "      <td>1</td>\n",
              "      <td>0</td>\n",
              "      <td>53.1000</td>\n",
              "      <td>1</td>\n",
              "      <td>0</td>\n",
              "      <td>1</td>\n",
              "      <td>0</td>\n",
              "      <td>0</td>\n",
              "      <td>0</td>\n",
              "      <td>0</td>\n",
              "      <td>0</td>\n",
              "    </tr>\n",
              "    <tr>\n",
              "      <th>4</th>\n",
              "      <td>3</td>\n",
              "      <td>0</td>\n",
              "      <td>35.0</td>\n",
              "      <td>0</td>\n",
              "      <td>0</td>\n",
              "      <td>8.0500</td>\n",
              "      <td>0</td>\n",
              "      <td>0</td>\n",
              "      <td>0</td>\n",
              "      <td>0</td>\n",
              "      <td>0</td>\n",
              "      <td>0</td>\n",
              "      <td>0</td>\n",
              "      <td>0</td>\n",
              "    </tr>\n",
              "  </tbody>\n",
              "</table>\n",
              "</div>"
            ],
            "text/plain": [
              "   Pclass  Sex   Age  SibSp  Parch     Fare  Survived  B  C  D  E  F  G  T\n",
              "0       3    0  22.0      1      0   7.2500         0  0  0  0  0  0  0  0\n",
              "1       1    1  38.0      1      0  71.2833         1  0  1  0  0  0  0  0\n",
              "2       3    1  26.0      0      0   7.9250         1  0  0  0  0  0  0  0\n",
              "3       1    1  35.0      1      0  53.1000         1  0  1  0  0  0  0  0\n",
              "4       3    0  35.0      0      0   8.0500         0  0  0  0  0  0  0  0"
            ]
          },
          "metadata": {
            "tags": []
          },
          "execution_count": 170
        }
      ]
    },
    {
      "cell_type": "markdown",
      "metadata": {
        "id": "Rq5tLb71hTnr",
        "colab_type": "text"
      },
      "source": [
        "# SVM"
      ]
    },
    {
      "cell_type": "code",
      "metadata": {
        "id": "UgpY9VqreFLn",
        "colab_type": "code",
        "colab": {}
      },
      "source": [
        "from sklearn.preprocessing import StandardScaler\n",
        "from sklearn.metrics import accuracy_score\n",
        "from sklearn.metrics import confusion_matrix\n",
        "from sklearn.svm import SVC\n",
        "from sklearn.model_selection import cross_val_score\n",
        "from sklearn.model_selection import GridSearchCV"
      ],
      "execution_count": 0,
      "outputs": []
    },
    {
      "cell_type": "code",
      "metadata": {
        "id": "-5dfpecrhhWl",
        "colab_type": "code",
        "outputId": "99254727-0e2e-48dc-b1cd-1c4702f0be89",
        "colab": {
          "base_uri": "https://localhost:8080/",
          "height": 407
        }
      },
      "source": [
        "df1"
      ],
      "execution_count": 0,
      "outputs": [
        {
          "output_type": "execute_result",
          "data": {
            "text/html": [
              "<div>\n",
              "<style scoped>\n",
              "    .dataframe tbody tr th:only-of-type {\n",
              "        vertical-align: middle;\n",
              "    }\n",
              "\n",
              "    .dataframe tbody tr th {\n",
              "        vertical-align: top;\n",
              "    }\n",
              "\n",
              "    .dataframe thead th {\n",
              "        text-align: right;\n",
              "    }\n",
              "</style>\n",
              "<table border=\"1\" class=\"dataframe\">\n",
              "  <thead>\n",
              "    <tr style=\"text-align: right;\">\n",
              "      <th></th>\n",
              "      <th>Pclass</th>\n",
              "      <th>Sex</th>\n",
              "      <th>Age</th>\n",
              "      <th>SibSp</th>\n",
              "      <th>Parch</th>\n",
              "      <th>Fare</th>\n",
              "      <th>Survived</th>\n",
              "      <th>B</th>\n",
              "      <th>C</th>\n",
              "      <th>D</th>\n",
              "      <th>E</th>\n",
              "      <th>F</th>\n",
              "      <th>G</th>\n",
              "      <th>T</th>\n",
              "    </tr>\n",
              "  </thead>\n",
              "  <tbody>\n",
              "    <tr>\n",
              "      <th>0</th>\n",
              "      <td>3</td>\n",
              "      <td>0</td>\n",
              "      <td>22.000000</td>\n",
              "      <td>1</td>\n",
              "      <td>0</td>\n",
              "      <td>7.2500</td>\n",
              "      <td>0</td>\n",
              "      <td>0</td>\n",
              "      <td>0</td>\n",
              "      <td>0</td>\n",
              "      <td>0</td>\n",
              "      <td>0</td>\n",
              "      <td>0</td>\n",
              "      <td>0</td>\n",
              "    </tr>\n",
              "    <tr>\n",
              "      <th>1</th>\n",
              "      <td>1</td>\n",
              "      <td>1</td>\n",
              "      <td>38.000000</td>\n",
              "      <td>1</td>\n",
              "      <td>0</td>\n",
              "      <td>71.2833</td>\n",
              "      <td>1</td>\n",
              "      <td>0</td>\n",
              "      <td>1</td>\n",
              "      <td>0</td>\n",
              "      <td>0</td>\n",
              "      <td>0</td>\n",
              "      <td>0</td>\n",
              "      <td>0</td>\n",
              "    </tr>\n",
              "    <tr>\n",
              "      <th>2</th>\n",
              "      <td>3</td>\n",
              "      <td>1</td>\n",
              "      <td>26.000000</td>\n",
              "      <td>0</td>\n",
              "      <td>0</td>\n",
              "      <td>7.9250</td>\n",
              "      <td>1</td>\n",
              "      <td>0</td>\n",
              "      <td>0</td>\n",
              "      <td>0</td>\n",
              "      <td>0</td>\n",
              "      <td>0</td>\n",
              "      <td>0</td>\n",
              "      <td>0</td>\n",
              "    </tr>\n",
              "    <tr>\n",
              "      <th>3</th>\n",
              "      <td>1</td>\n",
              "      <td>1</td>\n",
              "      <td>35.000000</td>\n",
              "      <td>1</td>\n",
              "      <td>0</td>\n",
              "      <td>53.1000</td>\n",
              "      <td>1</td>\n",
              "      <td>0</td>\n",
              "      <td>1</td>\n",
              "      <td>0</td>\n",
              "      <td>0</td>\n",
              "      <td>0</td>\n",
              "      <td>0</td>\n",
              "      <td>0</td>\n",
              "    </tr>\n",
              "    <tr>\n",
              "      <th>4</th>\n",
              "      <td>3</td>\n",
              "      <td>0</td>\n",
              "      <td>35.000000</td>\n",
              "      <td>0</td>\n",
              "      <td>0</td>\n",
              "      <td>8.0500</td>\n",
              "      <td>0</td>\n",
              "      <td>0</td>\n",
              "      <td>0</td>\n",
              "      <td>0</td>\n",
              "      <td>0</td>\n",
              "      <td>0</td>\n",
              "      <td>0</td>\n",
              "      <td>0</td>\n",
              "    </tr>\n",
              "    <tr>\n",
              "      <th>...</th>\n",
              "      <td>...</td>\n",
              "      <td>...</td>\n",
              "      <td>...</td>\n",
              "      <td>...</td>\n",
              "      <td>...</td>\n",
              "      <td>...</td>\n",
              "      <td>...</td>\n",
              "      <td>...</td>\n",
              "      <td>...</td>\n",
              "      <td>...</td>\n",
              "      <td>...</td>\n",
              "      <td>...</td>\n",
              "      <td>...</td>\n",
              "      <td>...</td>\n",
              "    </tr>\n",
              "    <tr>\n",
              "      <th>886</th>\n",
              "      <td>2</td>\n",
              "      <td>0</td>\n",
              "      <td>27.000000</td>\n",
              "      <td>0</td>\n",
              "      <td>0</td>\n",
              "      <td>13.0000</td>\n",
              "      <td>0</td>\n",
              "      <td>0</td>\n",
              "      <td>0</td>\n",
              "      <td>0</td>\n",
              "      <td>0</td>\n",
              "      <td>0</td>\n",
              "      <td>0</td>\n",
              "      <td>0</td>\n",
              "    </tr>\n",
              "    <tr>\n",
              "      <th>887</th>\n",
              "      <td>1</td>\n",
              "      <td>1</td>\n",
              "      <td>19.000000</td>\n",
              "      <td>0</td>\n",
              "      <td>0</td>\n",
              "      <td>30.0000</td>\n",
              "      <td>1</td>\n",
              "      <td>1</td>\n",
              "      <td>0</td>\n",
              "      <td>0</td>\n",
              "      <td>0</td>\n",
              "      <td>0</td>\n",
              "      <td>0</td>\n",
              "      <td>0</td>\n",
              "    </tr>\n",
              "    <tr>\n",
              "      <th>888</th>\n",
              "      <td>3</td>\n",
              "      <td>1</td>\n",
              "      <td>29.699118</td>\n",
              "      <td>1</td>\n",
              "      <td>2</td>\n",
              "      <td>23.4500</td>\n",
              "      <td>0</td>\n",
              "      <td>0</td>\n",
              "      <td>0</td>\n",
              "      <td>0</td>\n",
              "      <td>0</td>\n",
              "      <td>0</td>\n",
              "      <td>0</td>\n",
              "      <td>0</td>\n",
              "    </tr>\n",
              "    <tr>\n",
              "      <th>889</th>\n",
              "      <td>1</td>\n",
              "      <td>0</td>\n",
              "      <td>26.000000</td>\n",
              "      <td>0</td>\n",
              "      <td>0</td>\n",
              "      <td>30.0000</td>\n",
              "      <td>1</td>\n",
              "      <td>0</td>\n",
              "      <td>1</td>\n",
              "      <td>0</td>\n",
              "      <td>0</td>\n",
              "      <td>0</td>\n",
              "      <td>0</td>\n",
              "      <td>0</td>\n",
              "    </tr>\n",
              "    <tr>\n",
              "      <th>890</th>\n",
              "      <td>3</td>\n",
              "      <td>0</td>\n",
              "      <td>32.000000</td>\n",
              "      <td>0</td>\n",
              "      <td>0</td>\n",
              "      <td>7.7500</td>\n",
              "      <td>0</td>\n",
              "      <td>0</td>\n",
              "      <td>0</td>\n",
              "      <td>0</td>\n",
              "      <td>0</td>\n",
              "      <td>0</td>\n",
              "      <td>0</td>\n",
              "      <td>0</td>\n",
              "    </tr>\n",
              "  </tbody>\n",
              "</table>\n",
              "<p>891 rows × 14 columns</p>\n",
              "</div>"
            ],
            "text/plain": [
              "     Pclass  Sex        Age  SibSp  Parch     Fare  ...  C  D  E  F  G  T\n",
              "0         3    0  22.000000      1      0   7.2500  ...  0  0  0  0  0  0\n",
              "1         1    1  38.000000      1      0  71.2833  ...  1  0  0  0  0  0\n",
              "2         3    1  26.000000      0      0   7.9250  ...  0  0  0  0  0  0\n",
              "3         1    1  35.000000      1      0  53.1000  ...  1  0  0  0  0  0\n",
              "4         3    0  35.000000      0      0   8.0500  ...  0  0  0  0  0  0\n",
              "..      ...  ...        ...    ...    ...      ...  ... .. .. .. .. .. ..\n",
              "886       2    0  27.000000      0      0  13.0000  ...  0  0  0  0  0  0\n",
              "887       1    1  19.000000      0      0  30.0000  ...  0  0  0  0  0  0\n",
              "888       3    1  29.699118      1      2  23.4500  ...  0  0  0  0  0  0\n",
              "889       1    0  26.000000      0      0  30.0000  ...  1  0  0  0  0  0\n",
              "890       3    0  32.000000      0      0   7.7500  ...  0  0  0  0  0  0\n",
              "\n",
              "[891 rows x 14 columns]"
            ]
          },
          "metadata": {
            "tags": []
          },
          "execution_count": 303
        }
      ]
    },
    {
      "cell_type": "code",
      "metadata": {
        "id": "zP2K_OcshkhJ",
        "colab_type": "code",
        "colab": {}
      },
      "source": [
        "X=df.drop('Survived',axis=1).values\n",
        "y=df['Survived'].values"
      ],
      "execution_count": 0,
      "outputs": []
    },
    {
      "cell_type": "code",
      "metadata": {
        "id": "a6a8QTZYhvNs",
        "colab_type": "code",
        "colab": {}
      },
      "source": [
        "X_train, X_test, y_train, y_test = train_test_split(X, y, test_size = 0.15, random_state = 0)"
      ],
      "execution_count": 0,
      "outputs": []
    },
    {
      "cell_type": "code",
      "metadata": {
        "id": "miqzLqfahy7W",
        "colab_type": "code",
        "colab": {}
      },
      "source": [
        "sc = StandardScaler()\n",
        "X_train = sc.fit_transform(X_train)\n",
        "X_test = sc.transform(X_test)"
      ],
      "execution_count": 0,
      "outputs": []
    },
    {
      "cell_type": "code",
      "metadata": {
        "id": "NhBQ6LT_hz8g",
        "colab_type": "code",
        "outputId": "3d039010-6896-4c1c-8bed-76ffd7689933",
        "colab": {
          "base_uri": "https://localhost:8080/",
          "height": 90
        }
      },
      "source": [
        "classifier = SVC(C= 10,gamma= 0.1,kernel = 'rbf', random_state = 0)\n",
        "classifier.fit(X_train, y_train)"
      ],
      "execution_count": 0,
      "outputs": [
        {
          "output_type": "execute_result",
          "data": {
            "text/plain": [
              "SVC(C=10, break_ties=False, cache_size=200, class_weight=None, coef0=0.0,\n",
              "    decision_function_shape='ovr', degree=3, gamma=0.1, kernel='rbf',\n",
              "    max_iter=-1, probability=False, random_state=0, shrinking=True, tol=0.001,\n",
              "    verbose=False)"
            ]
          },
          "metadata": {
            "tags": []
          },
          "execution_count": 213
        }
      ]
    },
    {
      "cell_type": "code",
      "metadata": {
        "id": "MftQRYmXh1CW",
        "colab_type": "code",
        "colab": {}
      },
      "source": [
        "y_pred_svm = classifier.predict(X_test)"
      ],
      "execution_count": 0,
      "outputs": []
    },
    {
      "cell_type": "code",
      "metadata": {
        "id": "W_n9xSaRh2dp",
        "colab_type": "code",
        "outputId": "37c8ec26-78f7-4e56-de5b-23c25c052699",
        "colab": {
          "base_uri": "https://localhost:8080/",
          "height": 35
        }
      },
      "source": [
        "score=accuracy_score(y_test,y_pred_svm)*100\n",
        "score"
      ],
      "execution_count": 0,
      "outputs": [
        {
          "output_type": "execute_result",
          "data": {
            "text/plain": [
              "79.1044776119403"
            ]
          },
          "metadata": {
            "tags": []
          },
          "execution_count": 215
        }
      ]
    },
    {
      "cell_type": "code",
      "metadata": {
        "id": "P1vYgW1kh4wh",
        "colab_type": "code",
        "outputId": "4119b0dd-5622-44e8-a1e3-765ed46491e8",
        "colab": {
          "base_uri": "https://localhost:8080/",
          "height": 181
        }
      },
      "source": [
        "print(classification_report(y_test,y_pred_svm))"
      ],
      "execution_count": 0,
      "outputs": [
        {
          "output_type": "stream",
          "text": [
            "              precision    recall  f1-score   support\n",
            "\n",
            "           0       0.78      0.90      0.84        79\n",
            "           1       0.81      0.64      0.71        55\n",
            "\n",
            "    accuracy                           0.79       134\n",
            "   macro avg       0.80      0.77      0.77       134\n",
            "weighted avg       0.79      0.79      0.79       134\n",
            "\n"
          ],
          "name": "stdout"
        }
      ]
    },
    {
      "cell_type": "code",
      "metadata": {
        "id": "3AdCtPyih-eS",
        "colab_type": "code",
        "outputId": "a2570bd1-a4be-4f1b-c47e-bc0ab9959037",
        "colab": {
          "base_uri": "https://localhost:8080/",
          "height": 54
        }
      },
      "source": [
        "print(confusion_matrix(y_test,y_pred_svm))"
      ],
      "execution_count": 0,
      "outputs": [
        {
          "output_type": "stream",
          "text": [
            "[[71  8]\n",
            " [20 35]]\n"
          ],
          "name": "stdout"
        }
      ]
    },
    {
      "cell_type": "code",
      "metadata": {
        "id": "8_DJVECqiDCN",
        "colab_type": "code",
        "colab": {}
      },
      "source": [
        "# Accucary ANN = 79%\n",
        "# Accuracy SVM = 79%"
      ],
      "execution_count": 0,
      "outputs": []
    },
    {
      "cell_type": "markdown",
      "metadata": {
        "id": "MXdvFiRxigSI",
        "colab_type": "text"
      },
      "source": [
        "# Cross Validation and Grid Search\n",
        "\n"
      ]
    },
    {
      "cell_type": "code",
      "metadata": {
        "id": "UHNQbsRUiRtq",
        "colab_type": "code",
        "outputId": "12ec7129-d42c-4b69-e8d7-b4566133bc87",
        "colab": {
          "base_uri": "https://localhost:8080/",
          "height": 54
        }
      },
      "source": [
        "accuracies_DT = cross_val_score(estimator = classifier, X = X_train, y = y_train, cv = 10)\n",
        "print(\"Accuracy: {:.2f} %\".format(accuracies_DT.mean()*100))\n",
        "print(\"Standard Deviation: {:.2f} %\".format(accuracies_DT.std()*100))"
      ],
      "execution_count": 0,
      "outputs": [
        {
          "output_type": "stream",
          "text": [
            "Accuracy: 80.85 %\n",
            "Standard Deviation: 3.73 %\n"
          ],
          "name": "stdout"
        }
      ]
    },
    {
      "cell_type": "code",
      "metadata": {
        "id": "Z5Xf6f76imBS",
        "colab_type": "code",
        "outputId": "5b296785-7a7e-4e23-c7f9-9b166a6aaa1b",
        "colab": {
          "base_uri": "https://localhost:8080/",
          "height": 54
        }
      },
      "source": [
        "from sklearn.model_selection import GridSearchCV\n",
        "parameters = [{'C': [1, 10,100], 'kernel': ['linear']},\n",
        "              {'C': [1, 10,100], 'kernel': ['rbf'], 'gamma': [0.1, 0.2, 0.3, 0.4, 0.5, 0.6, 0.7, 0.8, 0.9]}]\n",
        "grid_search = GridSearchCV(estimator = classifier,\n",
        "                           param_grid = parameters,\n",
        "                           scoring = 'accuracy',\n",
        "                           cv = 10,\n",
        "                           n_jobs = -1)\n",
        "grid_search = grid_search.fit(X_train, y_train)\n",
        "best_accuracy = grid_search.best_score_\n",
        "best_parameters = grid_search.best_params_\n",
        "print(\"Best Accuracy: {:.2f} %\".format(best_accuracy*100))\n",
        "print(\"Best Parameters:\", best_parameters)"
      ],
      "execution_count": 0,
      "outputs": [
        {
          "output_type": "stream",
          "text": [
            "Best Accuracy: 82.57 %\n",
            "Best Parameters: {'C': 10, 'gamma': 0.1, 'kernel': 'rbf'}\n"
          ],
          "name": "stdout"
        }
      ]
    },
    {
      "cell_type": "markdown",
      "metadata": {
        "id": "6yziYkVjpP22",
        "colab_type": "text"
      },
      "source": [
        "# Random Forests"
      ]
    },
    {
      "cell_type": "code",
      "metadata": {
        "id": "Nz8R7IiwipQp",
        "colab_type": "code",
        "colab": {}
      },
      "source": [
        "from sklearn.ensemble import RandomForestClassifier"
      ],
      "execution_count": 0,
      "outputs": []
    },
    {
      "cell_type": "code",
      "metadata": {
        "id": "g7t2KsYZpS2E",
        "colab_type": "code",
        "colab": {}
      },
      "source": [
        "train,test= train_test_split(df1,test_size=0.15, random_state=42)"
      ],
      "execution_count": 0,
      "outputs": []
    },
    {
      "cell_type": "code",
      "metadata": {
        "id": "SKMKS3lnpi1u",
        "colab_type": "code",
        "outputId": "fb911d18-69c1-4134-f390-d8f6b00126ee",
        "colab": {
          "base_uri": "https://localhost:8080/",
          "height": 72
        }
      },
      "source": [
        "df1.columns"
      ],
      "execution_count": 0,
      "outputs": [
        {
          "output_type": "execute_result",
          "data": {
            "text/plain": [
              "Index(['Pclass', 'Sex', 'Age', 'SibSp', 'Parch', 'Fare', 'Survived', 'B', 'C',\n",
              "       'D', 'E', 'F', 'G', 'T'],\n",
              "      dtype='object')"
            ]
          },
          "metadata": {
            "tags": []
          },
          "execution_count": 326
        }
      ]
    },
    {
      "cell_type": "code",
      "metadata": {
        "id": "p7ZUlwnLplW-",
        "colab_type": "code",
        "colab": {}
      },
      "source": [
        "features=['Pclass', 'Sex', 'Age', 'SibSp', 'Parch', 'Fare', 'B', 'C',\n",
        "       'D', 'E', 'F', 'G', 'T']"
      ],
      "execution_count": 0,
      "outputs": []
    },
    {
      "cell_type": "code",
      "metadata": {
        "id": "g77zdWeAprf_",
        "colab_type": "code",
        "colab": {}
      },
      "source": [
        "X_train=train[features]\n",
        "y_train=train['Survived']\n",
        "\n",
        "X_test=test[features]\n",
        "y_test=test['Survived']"
      ],
      "execution_count": 0,
      "outputs": []
    },
    {
      "cell_type": "code",
      "metadata": {
        "id": "-69jJhPvpvWH",
        "colab_type": "code",
        "colab": {}
      },
      "source": [
        "sc_X=StandardScaler()\n",
        "X_train=sc_X.fit_transform(X_train)\n",
        "X_test=sc_X.transform(X_test)"
      ],
      "execution_count": 0,
      "outputs": []
    },
    {
      "cell_type": "code",
      "metadata": {
        "id": "TChkqLU7pwn4",
        "colab_type": "code",
        "outputId": "344de60d-9c0c-4875-b813-3246603de7ae",
        "colab": {
          "base_uri": "https://localhost:8080/",
          "height": 163
        }
      },
      "source": [
        "rf_model=RandomForestClassifier(bootstrap=False,\n",
        " max_depth= 30,\n",
        " max_features= 'auto',\n",
        " min_samples_leaf= 4,\n",
        " min_samples_split= 5,\n",
        " n_estimators= 2000,\n",
        " random_state=0)\n",
        "rf_model.fit(X_train,y_train)"
      ],
      "execution_count": 0,
      "outputs": [
        {
          "output_type": "execute_result",
          "data": {
            "text/plain": [
              "RandomForestClassifier(bootstrap=False, ccp_alpha=0.0, class_weight=None,\n",
              "                       criterion='gini', max_depth=30, max_features='auto',\n",
              "                       max_leaf_nodes=None, max_samples=None,\n",
              "                       min_impurity_decrease=0.0, min_impurity_split=None,\n",
              "                       min_samples_leaf=4, min_samples_split=5,\n",
              "                       min_weight_fraction_leaf=0.0, n_estimators=2000,\n",
              "                       n_jobs=None, oob_score=False, random_state=0, verbose=0,\n",
              "                       warm_start=False)"
            ]
          },
          "metadata": {
            "tags": []
          },
          "execution_count": 333
        }
      ]
    },
    {
      "cell_type": "code",
      "metadata": {
        "id": "Nq5AoX4jp5zG",
        "colab_type": "code",
        "colab": {}
      },
      "source": [
        "rf_pred=rf_model.predict(X_test)"
      ],
      "execution_count": 0,
      "outputs": []
    },
    {
      "cell_type": "code",
      "metadata": {
        "id": "Lw8nZTxyp7h_",
        "colab_type": "code",
        "outputId": "d2732f9c-96d4-4b08-cee6-2a39baa668e9",
        "colab": {
          "base_uri": "https://localhost:8080/",
          "height": 35
        }
      },
      "source": [
        "score=accuracy_score(y_test,rf_pred)*100\n",
        "score"
      ],
      "execution_count": 0,
      "outputs": [
        {
          "output_type": "execute_result",
          "data": {
            "text/plain": [
              "82.83582089552239"
            ]
          },
          "metadata": {
            "tags": []
          },
          "execution_count": 335
        }
      ]
    },
    {
      "cell_type": "code",
      "metadata": {
        "id": "Eftd6yzhqDgr",
        "colab_type": "code",
        "outputId": "ccc00fab-1626-4c91-9307-eeec605c2dd9",
        "colab": {
          "base_uri": "https://localhost:8080/",
          "height": 181
        }
      },
      "source": [
        "print(classification_report(y_test,rf_pred))"
      ],
      "execution_count": 0,
      "outputs": [
        {
          "output_type": "stream",
          "text": [
            "              precision    recall  f1-score   support\n",
            "\n",
            "           0       0.82      0.91      0.86        78\n",
            "           1       0.85      0.71      0.78        56\n",
            "\n",
            "    accuracy                           0.83       134\n",
            "   macro avg       0.83      0.81      0.82       134\n",
            "weighted avg       0.83      0.83      0.83       134\n",
            "\n"
          ],
          "name": "stdout"
        }
      ]
    },
    {
      "cell_type": "code",
      "metadata": {
        "id": "ukq5ri17qKfK",
        "colab_type": "code",
        "outputId": "1a9c307a-2efc-4904-e1bf-412231e7f9c1",
        "colab": {
          "base_uri": "https://localhost:8080/",
          "height": 54
        }
      },
      "source": [
        "print(confusion_matrix(y_test,rf_pred))"
      ],
      "execution_count": 0,
      "outputs": [
        {
          "output_type": "stream",
          "text": [
            "[[71  7]\n",
            " [16 40]]\n"
          ],
          "name": "stdout"
        }
      ]
    },
    {
      "cell_type": "code",
      "metadata": {
        "id": "bhWH3rW5swxd",
        "colab_type": "code",
        "colab": {}
      },
      "source": [
        "from sklearn.model_selection import RandomizedSearchCV"
      ],
      "execution_count": 0,
      "outputs": []
    },
    {
      "cell_type": "code",
      "metadata": {
        "id": "4_HmJJkvqe1l",
        "colab_type": "code",
        "outputId": "efd26676-0b9f-431a-9a82-dd21233c7b49",
        "colab": {
          "base_uri": "https://localhost:8080/",
          "height": 55
        }
      },
      "source": [
        "# Number of trees in random forest\n",
        "n_estimators = [int(x) for x in np.linspace(start = 200, stop = 2000, num = 10)]\n",
        "max_features = ['auto', 'sqrt']\n",
        "max_depth = [int(x) for x in np.linspace(10, 110, num = 11)]\n",
        "max_depth.append(None)\n",
        "min_samples_split = [2, 5, 10]\n",
        "min_samples_leaf = [1, 2, 4]\n",
        "bootstrap = [True, False]\n",
        "\n",
        "random_grid = {'n_estimators': n_estimators,\n",
        "               'max_features': max_features,\n",
        "               'max_depth': max_depth,\n",
        "               'min_samples_split': min_samples_split,\n",
        "               'min_samples_leaf': min_samples_leaf,\n",
        "               'bootstrap': bootstrap}\n",
        "print(random_grid)"
      ],
      "execution_count": 0,
      "outputs": [
        {
          "output_type": "stream",
          "text": [
            "{'n_estimators': [200, 400, 600, 800, 1000, 1200, 1400, 1600, 1800, 2000], 'max_features': ['auto', 'sqrt'], 'max_depth': [10, 20, 30, 40, 50, 60, 70, 80, 90, 100, 110, None], 'min_samples_split': [2, 5, 10], 'min_samples_leaf': [1, 2, 4], 'bootstrap': [True, False]}\n"
          ],
          "name": "stdout"
        }
      ]
    },
    {
      "cell_type": "code",
      "metadata": {
        "id": "IPS4EdDrsHyq",
        "colab_type": "code",
        "outputId": "de87872d-3328-443c-f0da-f910b3a9796c",
        "colab": {
          "base_uri": "https://localhost:8080/",
          "height": 199
        }
      },
      "source": [
        " # search across 100 different combinations, and use all available cores\n",
        "rf_random = RandomizedSearchCV(estimator = rf_model, param_distributions = random_grid, n_iter = 20, cv = 3, verbose=2, random_state=0, n_jobs = -1)\n",
        "# Fit the random search model\n",
        "rf_random.fit(X_train, y_train)\n",
        "\n",
        "rf_random.best_params_"
      ],
      "execution_count": 0,
      "outputs": [
        {
          "output_type": "stream",
          "text": [
            "Fitting 3 folds for each of 20 candidates, totalling 60 fits\n"
          ],
          "name": "stdout"
        },
        {
          "output_type": "stream",
          "text": [
            "[Parallel(n_jobs=-1)]: Using backend LokyBackend with 2 concurrent workers.\n",
            "[Parallel(n_jobs=-1)]: Done  37 tasks      | elapsed:   52.3s\n",
            "[Parallel(n_jobs=-1)]: Done  60 out of  60 | elapsed:  1.4min finished\n"
          ],
          "name": "stderr"
        },
        {
          "output_type": "execute_result",
          "data": {
            "text/plain": [
              "{'bootstrap': False,\n",
              " 'max_depth': 30,\n",
              " 'max_features': 'auto',\n",
              " 'min_samples_leaf': 4,\n",
              " 'min_samples_split': 5,\n",
              " 'n_estimators': 2000}"
            ]
          },
          "metadata": {
            "tags": []
          },
          "execution_count": 339
        }
      ]
    },
    {
      "cell_type": "code",
      "metadata": {
        "id": "yweSvgvJsqwY",
        "colab_type": "code",
        "colab": {}
      },
      "source": [
        "# ANN SCORE = 81%\n",
        "# SVM SCORE = 79%\n",
        "# RF SCORE = 83"
      ],
      "execution_count": 0,
      "outputs": []
    },
    {
      "cell_type": "markdown",
      "metadata": {
        "id": "5J5Gc14vyOrv",
        "colab_type": "text"
      },
      "source": [
        "# Predict on Test Data!"
      ]
    },
    {
      "cell_type": "code",
      "metadata": {
        "id": "uA7ySmASwk9O",
        "colab_type": "code",
        "outputId": "f84fbbd7-3816-4562-908f-e9eb121472c0",
        "colab": {
          "resources": {
            "http://localhost:8080/nbextensions/google.colab/files.js": {
              "data": "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",
              "ok": true,
              "headers": [
                [
                  "content-type",
                  "application/javascript"
                ]
              ],
              "status": 200,
              "status_text": ""
            }
          },
          "base_uri": "https://localhost:8080/",
          "height": 75
        }
      },
      "source": [
        "from google.colab import files\n",
        "uploaded = files.upload()"
      ],
      "execution_count": 0,
      "outputs": [
        {
          "output_type": "display_data",
          "data": {
            "text/html": [
              "\n",
              "     <input type=\"file\" id=\"files-da43a7dc-3017-4163-b611-fb589e9d818c\" name=\"files[]\" multiple disabled />\n",
              "     <output id=\"result-da43a7dc-3017-4163-b611-fb589e9d818c\">\n",
              "      Upload widget is only available when the cell has been executed in the\n",
              "      current browser session. Please rerun this cell to enable.\n",
              "      </output>\n",
              "      <script src=\"/nbextensions/google.colab/files.js\"></script> "
            ],
            "text/plain": [
              "<IPython.core.display.HTML object>"
            ]
          },
          "metadata": {
            "tags": []
          }
        },
        {
          "output_type": "stream",
          "text": [
            "Saving titanic_test.csv to titanic_test.csv\n"
          ],
          "name": "stdout"
        }
      ]
    },
    {
      "cell_type": "code",
      "metadata": {
        "id": "EdxUNF3uybCC",
        "colab_type": "code",
        "outputId": "8d92b8ef-ef63-4fc2-d6b4-4cdea9b6f34d",
        "colab": {
          "base_uri": "https://localhost:8080/",
          "height": 363
        }
      },
      "source": [
        "df.info()"
      ],
      "execution_count": 0,
      "outputs": [
        {
          "output_type": "stream",
          "text": [
            "<class 'pandas.core.frame.DataFrame'>\n",
            "RangeIndex: 418 entries, 0 to 417\n",
            "Data columns (total 12 columns):\n",
            " #   Column  Non-Null Count  Dtype  \n",
            "---  ------  --------------  -----  \n",
            " 0   Pclass  418 non-null    int64  \n",
            " 1   Sex     418 non-null    int64  \n",
            " 2   Age     418 non-null    float64\n",
            " 3   SibSp   418 non-null    int64  \n",
            " 4   Parch   418 non-null    int64  \n",
            " 5   Fare    417 non-null    float64\n",
            " 6   B       418 non-null    uint8  \n",
            " 7   C       418 non-null    uint8  \n",
            " 8   D       418 non-null    uint8  \n",
            " 9   E       418 non-null    uint8  \n",
            " 10  F       418 non-null    uint8  \n",
            " 11  G       418 non-null    uint8  \n",
            "dtypes: float64(2), int64(4), uint8(6)\n",
            "memory usage: 22.2 KB\n"
          ],
          "name": "stdout"
        }
      ]
    },
    {
      "cell_type": "code",
      "metadata": {
        "id": "ndf-rFqFyhoI",
        "colab_type": "code",
        "colab": {}
      },
      "source": [
        "df['Fare']=df['Fare'].fillna(df['Fare'].mean())"
      ],
      "execution_count": 0,
      "outputs": []
    },
    {
      "cell_type": "code",
      "metadata": {
        "id": "3f6VFIt10fr4",
        "colab_type": "code",
        "colab": {}
      },
      "source": [
        "rf_pred=rf_model.predict(df)"
      ],
      "execution_count": 0,
      "outputs": []
    },
    {
      "cell_type": "code",
      "metadata": {
        "id": "ccEsJj-20jJ5",
        "colab_type": "code",
        "outputId": "e8e0c2ff-1a2b-4e1b-f82c-01d99b21150b",
        "colab": {
          "base_uri": "https://localhost:8080/",
          "height": 381
        }
      },
      "source": [
        "rf_pred"
      ],
      "execution_count": 0,
      "outputs": [
        {
          "output_type": "execute_result",
          "data": {
            "text/plain": [
              "array([0, 1, 0, 0, 0, 0, 1, 0, 1, 0, 0, 0, 1, 0, 1, 1, 0, 0, 1, 1, 0, 0,\n",
              "       1, 0, 0, 0, 0, 0, 0, 0, 0, 0, 0, 0, 0, 0, 0, 1, 1, 0, 0, 0, 0, 0,\n",
              "       1, 1, 0, 0, 0, 1, 0, 0, 0, 0, 0, 0, 0, 0, 0, 0, 1, 0, 0, 0, 1, 0,\n",
              "       1, 1, 0, 0, 0, 1, 0, 1, 0, 1, 0, 0, 0, 0, 1, 0, 0, 0, 0, 0, 0, 1,\n",
              "       1, 1, 0, 1, 0, 0, 0, 0, 0, 1, 0, 1, 0, 1, 0, 0, 0, 0, 0, 0, 0, 0,\n",
              "       0, 0, 1, 1, 1, 1, 0, 0, 0, 0, 1, 1, 0, 1, 0, 0, 0, 0, 0, 0, 0, 0,\n",
              "       0, 0, 0, 0, 0, 0, 0, 1, 0, 0, 1, 0, 0, 0, 0, 0, 0, 0, 0, 0, 0, 0,\n",
              "       0, 0, 0, 1, 1, 0, 0, 1, 0, 1, 0, 0, 0, 0, 0, 1, 1, 0, 0, 0, 0, 0,\n",
              "       0, 1, 0, 0, 0, 0, 0, 1, 0, 0, 0, 0, 0, 0, 0, 0, 0, 0, 0, 0, 0, 0,\n",
              "       1, 0, 1, 1, 0, 0, 0, 0, 0, 1, 0, 1, 0, 0, 0, 0, 1, 0, 0, 1, 0, 0,\n",
              "       0, 1, 0, 1, 0, 1, 0, 0, 1, 0, 0, 0, 1, 0, 0, 0, 0, 0, 0, 0, 1, 1,\n",
              "       0, 0, 0, 0, 0, 1, 0, 1, 1, 0, 0, 0, 0, 0, 0, 0, 0, 1, 0, 0, 0, 0,\n",
              "       0, 0, 0, 0, 0, 1, 0, 0, 0, 1, 1, 0, 1, 0, 0, 0, 0, 1, 0, 1, 0, 0,\n",
              "       0, 0, 0, 0, 0, 0, 1, 0, 0, 0, 0, 0, 0, 0, 0, 0, 0, 0, 0, 1, 0, 0,\n",
              "       0, 0, 1, 0, 0, 0, 1, 1, 1, 0, 0, 0, 0, 0, 0, 0, 0, 1, 0, 0, 0, 0,\n",
              "       0, 0, 0, 0, 0, 0, 0, 0, 0, 0, 0, 0, 0, 0, 0, 0, 1, 0, 1, 0, 1, 0,\n",
              "       0, 0, 0, 0, 0, 0, 0, 0, 1, 0, 0, 1, 0, 1, 0, 0, 1, 0, 0, 0, 1, 0,\n",
              "       0, 0, 1, 0, 0, 0, 0, 0, 0, 1, 1, 0, 0, 0, 0, 0, 0, 0, 0, 0, 0, 0,\n",
              "       1, 0, 0, 0, 0, 1, 0, 0, 0, 0, 0, 0, 0, 1, 0, 1, 1, 1, 0, 1, 0, 0,\n",
              "       0])"
            ]
          },
          "metadata": {
            "tags": []
          },
          "execution_count": 387
        }
      ]
    },
    {
      "cell_type": "code",
      "metadata": {
        "id": "7XyqdZya2IST",
        "colab_type": "code",
        "outputId": "a096871e-7fe3-45bd-d170-b3d6c9ef78a5",
        "colab": {
          "base_uri": "https://localhost:8080/",
          "height": 407
        }
      },
      "source": [
        "df"
      ],
      "execution_count": 0,
      "outputs": [
        {
          "output_type": "execute_result",
          "data": {
            "text/html": [
              "<div>\n",
              "<style scoped>\n",
              "    .dataframe tbody tr th:only-of-type {\n",
              "        vertical-align: middle;\n",
              "    }\n",
              "\n",
              "    .dataframe tbody tr th {\n",
              "        vertical-align: top;\n",
              "    }\n",
              "\n",
              "    .dataframe thead th {\n",
              "        text-align: right;\n",
              "    }\n",
              "</style>\n",
              "<table border=\"1\" class=\"dataframe\">\n",
              "  <thead>\n",
              "    <tr style=\"text-align: right;\">\n",
              "      <th></th>\n",
              "      <th>Pclass</th>\n",
              "      <th>Sex</th>\n",
              "      <th>Age</th>\n",
              "      <th>SibSp</th>\n",
              "      <th>Parch</th>\n",
              "      <th>Fare</th>\n",
              "      <th>B</th>\n",
              "      <th>C</th>\n",
              "      <th>D</th>\n",
              "      <th>E</th>\n",
              "      <th>F</th>\n",
              "      <th>G</th>\n",
              "      <th>T</th>\n",
              "    </tr>\n",
              "  </thead>\n",
              "  <tbody>\n",
              "    <tr>\n",
              "      <th>0</th>\n",
              "      <td>3</td>\n",
              "      <td>0</td>\n",
              "      <td>34.500000</td>\n",
              "      <td>0</td>\n",
              "      <td>0</td>\n",
              "      <td>7.8292</td>\n",
              "      <td>0</td>\n",
              "      <td>0</td>\n",
              "      <td>0</td>\n",
              "      <td>0</td>\n",
              "      <td>0</td>\n",
              "      <td>0</td>\n",
              "      <td>0</td>\n",
              "    </tr>\n",
              "    <tr>\n",
              "      <th>1</th>\n",
              "      <td>3</td>\n",
              "      <td>1</td>\n",
              "      <td>47.000000</td>\n",
              "      <td>1</td>\n",
              "      <td>0</td>\n",
              "      <td>7.0000</td>\n",
              "      <td>0</td>\n",
              "      <td>0</td>\n",
              "      <td>0</td>\n",
              "      <td>0</td>\n",
              "      <td>0</td>\n",
              "      <td>0</td>\n",
              "      <td>0</td>\n",
              "    </tr>\n",
              "    <tr>\n",
              "      <th>2</th>\n",
              "      <td>2</td>\n",
              "      <td>0</td>\n",
              "      <td>62.000000</td>\n",
              "      <td>0</td>\n",
              "      <td>0</td>\n",
              "      <td>9.6875</td>\n",
              "      <td>0</td>\n",
              "      <td>0</td>\n",
              "      <td>0</td>\n",
              "      <td>0</td>\n",
              "      <td>0</td>\n",
              "      <td>0</td>\n",
              "      <td>0</td>\n",
              "    </tr>\n",
              "    <tr>\n",
              "      <th>3</th>\n",
              "      <td>3</td>\n",
              "      <td>0</td>\n",
              "      <td>27.000000</td>\n",
              "      <td>0</td>\n",
              "      <td>0</td>\n",
              "      <td>8.6625</td>\n",
              "      <td>0</td>\n",
              "      <td>0</td>\n",
              "      <td>0</td>\n",
              "      <td>0</td>\n",
              "      <td>0</td>\n",
              "      <td>0</td>\n",
              "      <td>0</td>\n",
              "    </tr>\n",
              "    <tr>\n",
              "      <th>4</th>\n",
              "      <td>3</td>\n",
              "      <td>1</td>\n",
              "      <td>22.000000</td>\n",
              "      <td>1</td>\n",
              "      <td>1</td>\n",
              "      <td>12.2875</td>\n",
              "      <td>0</td>\n",
              "      <td>0</td>\n",
              "      <td>0</td>\n",
              "      <td>0</td>\n",
              "      <td>0</td>\n",
              "      <td>0</td>\n",
              "      <td>0</td>\n",
              "    </tr>\n",
              "    <tr>\n",
              "      <th>...</th>\n",
              "      <td>...</td>\n",
              "      <td>...</td>\n",
              "      <td>...</td>\n",
              "      <td>...</td>\n",
              "      <td>...</td>\n",
              "      <td>...</td>\n",
              "      <td>...</td>\n",
              "      <td>...</td>\n",
              "      <td>...</td>\n",
              "      <td>...</td>\n",
              "      <td>...</td>\n",
              "      <td>...</td>\n",
              "      <td>...</td>\n",
              "    </tr>\n",
              "    <tr>\n",
              "      <th>414</th>\n",
              "      <td>3</td>\n",
              "      <td>0</td>\n",
              "      <td>30.247748</td>\n",
              "      <td>0</td>\n",
              "      <td>0</td>\n",
              "      <td>8.0500</td>\n",
              "      <td>0</td>\n",
              "      <td>0</td>\n",
              "      <td>0</td>\n",
              "      <td>0</td>\n",
              "      <td>0</td>\n",
              "      <td>0</td>\n",
              "      <td>0</td>\n",
              "    </tr>\n",
              "    <tr>\n",
              "      <th>415</th>\n",
              "      <td>1</td>\n",
              "      <td>1</td>\n",
              "      <td>39.000000</td>\n",
              "      <td>0</td>\n",
              "      <td>0</td>\n",
              "      <td>108.9000</td>\n",
              "      <td>0</td>\n",
              "      <td>1</td>\n",
              "      <td>0</td>\n",
              "      <td>0</td>\n",
              "      <td>0</td>\n",
              "      <td>0</td>\n",
              "      <td>0</td>\n",
              "    </tr>\n",
              "    <tr>\n",
              "      <th>416</th>\n",
              "      <td>3</td>\n",
              "      <td>0</td>\n",
              "      <td>38.500000</td>\n",
              "      <td>0</td>\n",
              "      <td>0</td>\n",
              "      <td>7.2500</td>\n",
              "      <td>0</td>\n",
              "      <td>0</td>\n",
              "      <td>0</td>\n",
              "      <td>0</td>\n",
              "      <td>0</td>\n",
              "      <td>0</td>\n",
              "      <td>0</td>\n",
              "    </tr>\n",
              "    <tr>\n",
              "      <th>417</th>\n",
              "      <td>3</td>\n",
              "      <td>0</td>\n",
              "      <td>30.247748</td>\n",
              "      <td>0</td>\n",
              "      <td>0</td>\n",
              "      <td>8.0500</td>\n",
              "      <td>0</td>\n",
              "      <td>0</td>\n",
              "      <td>0</td>\n",
              "      <td>0</td>\n",
              "      <td>0</td>\n",
              "      <td>0</td>\n",
              "      <td>0</td>\n",
              "    </tr>\n",
              "    <tr>\n",
              "      <th>418</th>\n",
              "      <td>3</td>\n",
              "      <td>0</td>\n",
              "      <td>30.247748</td>\n",
              "      <td>1</td>\n",
              "      <td>1</td>\n",
              "      <td>22.3583</td>\n",
              "      <td>0</td>\n",
              "      <td>0</td>\n",
              "      <td>0</td>\n",
              "      <td>0</td>\n",
              "      <td>0</td>\n",
              "      <td>0</td>\n",
              "      <td>0</td>\n",
              "    </tr>\n",
              "  </tbody>\n",
              "</table>\n",
              "<p>419 rows × 13 columns</p>\n",
              "</div>"
            ],
            "text/plain": [
              "     Pclass  Sex        Age  SibSp  Parch      Fare  B  C  D  E  F  G  T\n",
              "0         3    0  34.500000      0      0    7.8292  0  0  0  0  0  0  0\n",
              "1         3    1  47.000000      1      0    7.0000  0  0  0  0  0  0  0\n",
              "2         2    0  62.000000      0      0    9.6875  0  0  0  0  0  0  0\n",
              "3         3    0  27.000000      0      0    8.6625  0  0  0  0  0  0  0\n",
              "4         3    1  22.000000      1      1   12.2875  0  0  0  0  0  0  0\n",
              "..      ...  ...        ...    ...    ...       ... .. .. .. .. .. .. ..\n",
              "414       3    0  30.247748      0      0    8.0500  0  0  0  0  0  0  0\n",
              "415       1    1  39.000000      0      0  108.9000  0  1  0  0  0  0  0\n",
              "416       3    0  38.500000      0      0    7.2500  0  0  0  0  0  0  0\n",
              "417       3    0  30.247748      0      0    8.0500  0  0  0  0  0  0  0\n",
              "418       3    0  30.247748      1      1   22.3583  0  0  0  0  0  0  0\n",
              "\n",
              "[419 rows x 13 columns]"
            ]
          },
          "metadata": {
            "tags": []
          },
          "execution_count": 389
        }
      ]
    },
    {
      "cell_type": "code",
      "metadata": {
        "id": "D5xK31N80r_t",
        "colab_type": "code",
        "outputId": "4b4dc814-4097-4b8d-c792-7598c52f7f30",
        "colab": {
          "base_uri": "https://localhost:8080/",
          "height": 407
        }
      },
      "source": [
        "submission = pd.DataFrame({\n",
        "        \"Survived\": rf_pred})\n",
        "submission"
      ],
      "execution_count": 0,
      "outputs": [
        {
          "output_type": "execute_result",
          "data": {
            "text/html": [
              "<div>\n",
              "<style scoped>\n",
              "    .dataframe tbody tr th:only-of-type {\n",
              "        vertical-align: middle;\n",
              "    }\n",
              "\n",
              "    .dataframe tbody tr th {\n",
              "        vertical-align: top;\n",
              "    }\n",
              "\n",
              "    .dataframe thead th {\n",
              "        text-align: right;\n",
              "    }\n",
              "</style>\n",
              "<table border=\"1\" class=\"dataframe\">\n",
              "  <thead>\n",
              "    <tr style=\"text-align: right;\">\n",
              "      <th></th>\n",
              "      <th>Survived</th>\n",
              "    </tr>\n",
              "  </thead>\n",
              "  <tbody>\n",
              "    <tr>\n",
              "      <th>0</th>\n",
              "      <td>0</td>\n",
              "    </tr>\n",
              "    <tr>\n",
              "      <th>1</th>\n",
              "      <td>1</td>\n",
              "    </tr>\n",
              "    <tr>\n",
              "      <th>2</th>\n",
              "      <td>0</td>\n",
              "    </tr>\n",
              "    <tr>\n",
              "      <th>3</th>\n",
              "      <td>0</td>\n",
              "    </tr>\n",
              "    <tr>\n",
              "      <th>4</th>\n",
              "      <td>0</td>\n",
              "    </tr>\n",
              "    <tr>\n",
              "      <th>...</th>\n",
              "      <td>...</td>\n",
              "    </tr>\n",
              "    <tr>\n",
              "      <th>414</th>\n",
              "      <td>0</td>\n",
              "    </tr>\n",
              "    <tr>\n",
              "      <th>415</th>\n",
              "      <td>1</td>\n",
              "    </tr>\n",
              "    <tr>\n",
              "      <th>416</th>\n",
              "      <td>0</td>\n",
              "    </tr>\n",
              "    <tr>\n",
              "      <th>417</th>\n",
              "      <td>0</td>\n",
              "    </tr>\n",
              "    <tr>\n",
              "      <th>418</th>\n",
              "      <td>0</td>\n",
              "    </tr>\n",
              "  </tbody>\n",
              "</table>\n",
              "<p>419 rows × 1 columns</p>\n",
              "</div>"
            ],
            "text/plain": [
              "     Survived\n",
              "0           0\n",
              "1           1\n",
              "2           0\n",
              "3           0\n",
              "4           0\n",
              "..        ...\n",
              "414         0\n",
              "415         1\n",
              "416         0\n",
              "417         0\n",
              "418         0\n",
              "\n",
              "[419 rows x 1 columns]"
            ]
          },
          "metadata": {
            "tags": []
          },
          "execution_count": 390
        }
      ]
    },
    {
      "cell_type": "code",
      "metadata": {
        "id": "mWwrexHQ2GID",
        "colab_type": "code",
        "outputId": "b804b658-f28d-45a0-d440-344b6a4a8789",
        "colab": {
          "base_uri": "https://localhost:8080/",
          "height": 407
        }
      },
      "source": [
        "data_predicted= pd.concat([df,submission], axis=1)\n",
        "data_predicted"
      ],
      "execution_count": 0,
      "outputs": [
        {
          "output_type": "execute_result",
          "data": {
            "text/html": [
              "<div>\n",
              "<style scoped>\n",
              "    .dataframe tbody tr th:only-of-type {\n",
              "        vertical-align: middle;\n",
              "    }\n",
              "\n",
              "    .dataframe tbody tr th {\n",
              "        vertical-align: top;\n",
              "    }\n",
              "\n",
              "    .dataframe thead th {\n",
              "        text-align: right;\n",
              "    }\n",
              "</style>\n",
              "<table border=\"1\" class=\"dataframe\">\n",
              "  <thead>\n",
              "    <tr style=\"text-align: right;\">\n",
              "      <th></th>\n",
              "      <th>Pclass</th>\n",
              "      <th>Sex</th>\n",
              "      <th>Age</th>\n",
              "      <th>SibSp</th>\n",
              "      <th>Parch</th>\n",
              "      <th>Fare</th>\n",
              "      <th>B</th>\n",
              "      <th>C</th>\n",
              "      <th>D</th>\n",
              "      <th>E</th>\n",
              "      <th>F</th>\n",
              "      <th>G</th>\n",
              "      <th>T</th>\n",
              "      <th>Survived</th>\n",
              "    </tr>\n",
              "  </thead>\n",
              "  <tbody>\n",
              "    <tr>\n",
              "      <th>0</th>\n",
              "      <td>3</td>\n",
              "      <td>0</td>\n",
              "      <td>34.500000</td>\n",
              "      <td>0</td>\n",
              "      <td>0</td>\n",
              "      <td>7.8292</td>\n",
              "      <td>0</td>\n",
              "      <td>0</td>\n",
              "      <td>0</td>\n",
              "      <td>0</td>\n",
              "      <td>0</td>\n",
              "      <td>0</td>\n",
              "      <td>0</td>\n",
              "      <td>0</td>\n",
              "    </tr>\n",
              "    <tr>\n",
              "      <th>1</th>\n",
              "      <td>3</td>\n",
              "      <td>1</td>\n",
              "      <td>47.000000</td>\n",
              "      <td>1</td>\n",
              "      <td>0</td>\n",
              "      <td>7.0000</td>\n",
              "      <td>0</td>\n",
              "      <td>0</td>\n",
              "      <td>0</td>\n",
              "      <td>0</td>\n",
              "      <td>0</td>\n",
              "      <td>0</td>\n",
              "      <td>0</td>\n",
              "      <td>1</td>\n",
              "    </tr>\n",
              "    <tr>\n",
              "      <th>2</th>\n",
              "      <td>2</td>\n",
              "      <td>0</td>\n",
              "      <td>62.000000</td>\n",
              "      <td>0</td>\n",
              "      <td>0</td>\n",
              "      <td>9.6875</td>\n",
              "      <td>0</td>\n",
              "      <td>0</td>\n",
              "      <td>0</td>\n",
              "      <td>0</td>\n",
              "      <td>0</td>\n",
              "      <td>0</td>\n",
              "      <td>0</td>\n",
              "      <td>0</td>\n",
              "    </tr>\n",
              "    <tr>\n",
              "      <th>3</th>\n",
              "      <td>3</td>\n",
              "      <td>0</td>\n",
              "      <td>27.000000</td>\n",
              "      <td>0</td>\n",
              "      <td>0</td>\n",
              "      <td>8.6625</td>\n",
              "      <td>0</td>\n",
              "      <td>0</td>\n",
              "      <td>0</td>\n",
              "      <td>0</td>\n",
              "      <td>0</td>\n",
              "      <td>0</td>\n",
              "      <td>0</td>\n",
              "      <td>0</td>\n",
              "    </tr>\n",
              "    <tr>\n",
              "      <th>4</th>\n",
              "      <td>3</td>\n",
              "      <td>1</td>\n",
              "      <td>22.000000</td>\n",
              "      <td>1</td>\n",
              "      <td>1</td>\n",
              "      <td>12.2875</td>\n",
              "      <td>0</td>\n",
              "      <td>0</td>\n",
              "      <td>0</td>\n",
              "      <td>0</td>\n",
              "      <td>0</td>\n",
              "      <td>0</td>\n",
              "      <td>0</td>\n",
              "      <td>0</td>\n",
              "    </tr>\n",
              "    <tr>\n",
              "      <th>...</th>\n",
              "      <td>...</td>\n",
              "      <td>...</td>\n",
              "      <td>...</td>\n",
              "      <td>...</td>\n",
              "      <td>...</td>\n",
              "      <td>...</td>\n",
              "      <td>...</td>\n",
              "      <td>...</td>\n",
              "      <td>...</td>\n",
              "      <td>...</td>\n",
              "      <td>...</td>\n",
              "      <td>...</td>\n",
              "      <td>...</td>\n",
              "      <td>...</td>\n",
              "    </tr>\n",
              "    <tr>\n",
              "      <th>414</th>\n",
              "      <td>3</td>\n",
              "      <td>0</td>\n",
              "      <td>30.247748</td>\n",
              "      <td>0</td>\n",
              "      <td>0</td>\n",
              "      <td>8.0500</td>\n",
              "      <td>0</td>\n",
              "      <td>0</td>\n",
              "      <td>0</td>\n",
              "      <td>0</td>\n",
              "      <td>0</td>\n",
              "      <td>0</td>\n",
              "      <td>0</td>\n",
              "      <td>0</td>\n",
              "    </tr>\n",
              "    <tr>\n",
              "      <th>415</th>\n",
              "      <td>1</td>\n",
              "      <td>1</td>\n",
              "      <td>39.000000</td>\n",
              "      <td>0</td>\n",
              "      <td>0</td>\n",
              "      <td>108.9000</td>\n",
              "      <td>0</td>\n",
              "      <td>1</td>\n",
              "      <td>0</td>\n",
              "      <td>0</td>\n",
              "      <td>0</td>\n",
              "      <td>0</td>\n",
              "      <td>0</td>\n",
              "      <td>1</td>\n",
              "    </tr>\n",
              "    <tr>\n",
              "      <th>416</th>\n",
              "      <td>3</td>\n",
              "      <td>0</td>\n",
              "      <td>38.500000</td>\n",
              "      <td>0</td>\n",
              "      <td>0</td>\n",
              "      <td>7.2500</td>\n",
              "      <td>0</td>\n",
              "      <td>0</td>\n",
              "      <td>0</td>\n",
              "      <td>0</td>\n",
              "      <td>0</td>\n",
              "      <td>0</td>\n",
              "      <td>0</td>\n",
              "      <td>0</td>\n",
              "    </tr>\n",
              "    <tr>\n",
              "      <th>417</th>\n",
              "      <td>3</td>\n",
              "      <td>0</td>\n",
              "      <td>30.247748</td>\n",
              "      <td>0</td>\n",
              "      <td>0</td>\n",
              "      <td>8.0500</td>\n",
              "      <td>0</td>\n",
              "      <td>0</td>\n",
              "      <td>0</td>\n",
              "      <td>0</td>\n",
              "      <td>0</td>\n",
              "      <td>0</td>\n",
              "      <td>0</td>\n",
              "      <td>0</td>\n",
              "    </tr>\n",
              "    <tr>\n",
              "      <th>418</th>\n",
              "      <td>3</td>\n",
              "      <td>0</td>\n",
              "      <td>30.247748</td>\n",
              "      <td>1</td>\n",
              "      <td>1</td>\n",
              "      <td>22.3583</td>\n",
              "      <td>0</td>\n",
              "      <td>0</td>\n",
              "      <td>0</td>\n",
              "      <td>0</td>\n",
              "      <td>0</td>\n",
              "      <td>0</td>\n",
              "      <td>0</td>\n",
              "      <td>0</td>\n",
              "    </tr>\n",
              "  </tbody>\n",
              "</table>\n",
              "<p>419 rows × 14 columns</p>\n",
              "</div>"
            ],
            "text/plain": [
              "     Pclass  Sex        Age  SibSp  Parch      Fare  ...  D  E  F  G  T  Survived\n",
              "0         3    0  34.500000      0      0    7.8292  ...  0  0  0  0  0         0\n",
              "1         3    1  47.000000      1      0    7.0000  ...  0  0  0  0  0         1\n",
              "2         2    0  62.000000      0      0    9.6875  ...  0  0  0  0  0         0\n",
              "3         3    0  27.000000      0      0    8.6625  ...  0  0  0  0  0         0\n",
              "4         3    1  22.000000      1      1   12.2875  ...  0  0  0  0  0         0\n",
              "..      ...  ...        ...    ...    ...       ...  ... .. .. .. .. ..       ...\n",
              "414       3    0  30.247748      0      0    8.0500  ...  0  0  0  0  0         0\n",
              "415       1    1  39.000000      0      0  108.9000  ...  0  0  0  0  0         1\n",
              "416       3    0  38.500000      0      0    7.2500  ...  0  0  0  0  0         0\n",
              "417       3    0  30.247748      0      0    8.0500  ...  0  0  0  0  0         0\n",
              "418       3    0  30.247748      1      1   22.3583  ...  0  0  0  0  0         0\n",
              "\n",
              "[419 rows x 14 columns]"
            ]
          },
          "metadata": {
            "tags": []
          },
          "execution_count": 391
        }
      ]
    },
    {
      "cell_type": "code",
      "metadata": {
        "id": "DUFfY4dX2g2L",
        "colab_type": "code",
        "colab": {}
      },
      "source": [
        "data_predicted.to_csv('titanic_predictions.csv')\n",
        "files.download('titanic_predictions.csv')"
      ],
      "execution_count": 0,
      "outputs": []
    },
    {
      "cell_type": "code",
      "metadata": {
        "id": "sWka8K2q2o6m",
        "colab_type": "code",
        "colab": {}
      },
      "source": [
        ""
      ],
      "execution_count": 0,
      "outputs": []
    }
  ]
}